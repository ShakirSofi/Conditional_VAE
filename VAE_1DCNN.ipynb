{
  "nbformat": 4,
  "nbformat_minor": 0,
  "metadata": {
    "colab": {
      "provenance": [],
      "collapsed_sections": []
    },
    "kernelspec": {
      "name": "python3",
      "display_name": "Python 3"
    },
    "language_info": {
      "name": "python"
    }
  },
  "cells": [
    {
      "cell_type": "code",
      "execution_count": null,
      "metadata": {
        "id": "Y98yluypCeoj"
      },
      "outputs": [],
      "source": [
        "import numpy as np\n",
        "import matplotlib.pyplot as plt\n",
        "from scipy.stats import norm\n",
        "# Keras uses TensforFlow backend as default\n",
        "from keras.layers import Input, Dense, Lambda, Flatten, Reshape\n",
        "from keras.layers import Conv1D,UpSampling1D\n",
        "from keras.models import Model\n",
        "from keras import backend as K\n",
        "from keras import metrics\n",
        "from keras.datasets import mnist"
      ]
    },
    {
      "cell_type": "code",
      "source": [
        "import tensorflow as tf\n",
        "\n",
        "import keras\n",
        "from matplotlib import pyplot as plt\n",
        "import numpy as np\n",
        "\n",
        "%matplotlib inline\n",
        "import keras.layers as layer\n",
        "from keras import backend as K"
      ],
      "metadata": {
        "id": "p1GrVIeAaD2r"
      },
      "execution_count": null,
      "outputs": []
    },
    {
      "cell_type": "code",
      "source": [
        "(x_train, y_train), (x_test, y_test) = mnist.load_data()\n",
        "x_train = x_train.reshape(-1,28*28).astype('float32') / 255.\n",
        "x_test = x_test.reshape(-1, 28*28).astype('float32') / 255.\n"
      ],
      "metadata": {
        "id": "2o8QpqpXLpU_"
      },
      "execution_count": null,
      "outputs": []
    },
    {
      "cell_type": "code",
      "source": [
        "x_train_  = np.expand_dims(x_train, 1)"
      ],
      "metadata": {
        "id": "dhdO3GlDM9AI"
      },
      "execution_count": null,
      "outputs": []
    },
    {
      "cell_type": "code",
      "source": [
        "x_test_  = np.expand_dims(x_test, 1)"
      ],
      "metadata": {
        "id": "LclmRroaNNhw"
      },
      "execution_count": null,
      "outputs": []
    },
    {
      "cell_type": "code",
      "source": [
        "h_size = 4\n",
        "z_dims = 5\n",
        "input_img =  keras.Input(shape=(1, 28*28))\n",
        "\n",
        "def sample_z(args):\n",
        "    mu, log_var = args\n",
        "    batch = K.shape(mu)[0]\n",
        "    eps = K.random_normal(shape=(z_dims, ))\n",
        "    return mu + K.exp(log_var / 2) * eps\n",
        "\n",
        "def Encoder(input_img):\n",
        "\n",
        "    # Encoder\n",
        "  \n",
        "    traj_input = layer.Conv1D(h_size, 3, activation = 'relu', padding = 'same')(input_img)\n",
        "    traj_input = layer.MaxPool1D(4, padding = 'same')(traj_input)\n",
        "    traj_input = layer.Conv1D(1, 3, activation = 'relu', padding = 'same')(traj_input)\n",
        "    traj_input = layer.MaxPool1D(4, padding = 'same')(traj_input)\n",
        "    traj_input = layer.Flatten()(traj_input)\n",
        "\n",
        "    # Sampling\n",
        "\n",
        "    z_mean = layer.Dense(z_dims, activation='tanh')(traj_input)\n",
        "    z_var_log = layer.Dense(z_dims, activation='linear')(traj_input)\n",
        "    # z_var = tf.exp(z_var_log) + 1e-20\n",
        "    # eps = K.random_normal(shape =(z_dims,), mean=0., stddev=1.0, dtype=tf.float32)\n",
        "    # z = tf.add(z_mean, tf.multiply(tf.sqrt(z_var), eps))\n",
        "    z = Lambda(sample_z, output_shape=(z_dims,))([z_mean, z_var_log])\n",
        "    enc = keras.Model(input_img, [z_mean, z_var_log, z], name=\"encoder\")\n",
        "    return enc, z_mean, z_var_log\n",
        "\n",
        "z_input =  keras.Input(shape=(z_dims,))\n",
        "\n",
        "def Decoder (z_input):\n",
        "    # Decoder\n",
        "    z_traj_input = layer.Dense(50)(z_input)\n",
        "    z_traj_input = layer.Reshape((25, 2))(z_traj_input)\n",
        "    z_traj_input = layer.Conv1D(h_size, 3, activation = 'relu', padding = 'same')(z_traj_input)\n",
        "    c = layer.UpSampling1D(2)(z_traj_input)\n",
        "    z_traj_input =   layer.UpSampling1D(2)(z_traj_input) #layer.Conv1D(2, 1, activation = 'relu', padding = 'same')(z_traj_input)\n",
        "    z_traj_input = layer.Flatten()(z_traj_input)\n",
        "    z_traj_input = layer.Dense(28*28, activation='sigmoid')(z_traj_input)\n",
        "    traj_hat = layer.Reshape((1, 28*28))(z_traj_input)\n",
        "    dec= keras.Model(z_input, traj_hat, name=\"decoder\")\n",
        "    return dec"
      ],
      "metadata": {
        "id": "qFuBH6L_at9B"
      },
      "execution_count": null,
      "outputs": []
    },
    {
      "cell_type": "code",
      "source": [
        "Encd, mu, log_var  =  Encoder(input_img)"
      ],
      "metadata": {
        "id": "1xsgcJpmiaLv"
      },
      "execution_count": null,
      "outputs": []
    },
    {
      "cell_type": "code",
      "source": [
        "z_input =  keras.Input(shape=(z_dims,))\n",
        "Decd  =  Decoder(z_input)"
      ],
      "metadata": {
        "id": "CW89vr3MlYZN"
      },
      "execution_count": null,
      "outputs": []
    },
    {
      "cell_type": "code",
      "source": [
        "output = Decd(Encd(input_img)[2:])"
      ],
      "metadata": {
        "id": "AGSPImHfmlWS"
      },
      "execution_count": null,
      "outputs": []
    },
    {
      "cell_type": "code",
      "source": [
        "output.shape"
      ],
      "metadata": {
        "colab": {
          "base_uri": "https://localhost:8080/"
        },
        "id": "yaAvYBNh4Imp",
        "outputId": "4a010618-4f9e-45b3-9e97-66fb5c86abc8"
      },
      "execution_count": null,
      "outputs": [
        {
          "output_type": "execute_result",
          "data": {
            "text/plain": [
              "TensorShape([None, 1, 784])"
            ]
          },
          "metadata": {},
          "execution_count": 10
        }
      ]
    },
    {
      "cell_type": "code",
      "source": [
        "def loss_func(encoder_mu, encoder_log_variance):\n",
        "    def vae_reconstruction_loss(y_true, y_predict):\n",
        "        reconstruction_loss_factor = 1000\n",
        "        reconstruction_loss = tf.keras.backend.mean(tf.keras.backend.square(y_true-y_predict))\n",
        "        return reconstruction_loss_factor * reconstruction_loss\n",
        "\n",
        "    def vae_kl_loss(encoder_mu, encoder_log_variance):\n",
        "        kl_loss = -0.5 * tf.keras.backend.sum(1.0 + encoder_log_variance - tf.keras.backend.square(encoder_mu) - tf.keras.backend.exp(encoder_log_variance), axis=1)\n",
        "        return kl_loss\n",
        "\n",
        "    def vae_kl_loss_metric(y_true, y_predict):\n",
        "        kl_loss = -0.5 * tf.keras.backend.sum(1.0 + encoder_log_variance - tf.keras.backend.square(encoder_mu) - tf.keras.backend.exp(encoder_log_variance), axis=1)\n",
        "        return kl_loss\n",
        "\n",
        "    def vae_loss(y_true, y_predict):\n",
        "        reconstruction_loss = vae_reconstruction_loss(y_true, y_predict)\n",
        "        kl_loss = vae_kl_loss(y_true, y_predict)\n",
        "\n",
        "        loss = reconstruction_loss + kl_loss\n",
        "        return loss\n",
        "\n",
        "    return vae_loss"
      ],
      "metadata": {
        "id": "1W1wP4psDNig"
      },
      "execution_count": null,
      "outputs": []
    },
    {
      "cell_type": "code",
      "source": [
        "vae = Model(input_img, output)\n",
        "vae.summary()\n",
        "vae.compile(optimizer='adam', loss=loss_func(mu, log_var), metrics=['accuracy'])\n"
      ],
      "metadata": {
        "colab": {
          "base_uri": "https://localhost:8080/"
        },
        "id": "8kISn1YJoqna",
        "outputId": "8e6556fa-208f-4bcc-b9dd-cdde8164df50"
      },
      "execution_count": null,
      "outputs": [
        {
          "output_type": "stream",
          "name": "stdout",
          "text": [
            "Model: \"model\"\n",
            "_________________________________________________________________\n",
            " Layer (type)                Output Shape              Param #   \n",
            "=================================================================\n",
            " input_1 (InputLayer)        [(None, 1, 784)]          0         \n",
            "                                                                 \n",
            " encoder (Functional)        [(None, 5),               9445      \n",
            "                              (None, 5),                         \n",
            "                              (None, 5)]                         \n",
            "                                                                 \n",
            " decoder (Functional)        (None, 1, 784)            157912    \n",
            "                                                                 \n",
            "=================================================================\n",
            "Total params: 167,357\n",
            "Trainable params: 167,357\n",
            "Non-trainable params: 0\n",
            "_________________________________________________________________\n"
          ]
        }
      ]
    },
    {
      "cell_type": "code",
      "source": [
        "x_train_[0:1000,:].shape"
      ],
      "metadata": {
        "colab": {
          "base_uri": "https://localhost:8080/"
        },
        "id": "MhAxWBwa2VNu",
        "outputId": "cc73a9f6-7216-4e45-b091-d1df0ea0b922"
      },
      "execution_count": null,
      "outputs": [
        {
          "output_type": "execute_result",
          "data": {
            "text/plain": [
              "(1000, 1, 784)"
            ]
          },
          "metadata": {},
          "execution_count": 13
        }
      ]
    },
    {
      "cell_type": "code",
      "source": [
        "# train\n",
        "vae.fit(x_train_, x_train_, \n",
        "       shuffle=True,\n",
        "       epochs=10,\n",
        "       batch_size=64,\n",
        "       verbose=1)"
      ],
      "metadata": {
        "colab": {
          "base_uri": "https://localhost:8080/"
        },
        "id": "ABwOuKxxqqa2",
        "outputId": "f936b2ba-0276-43fc-ad3b-0c1084490b1c"
      },
      "execution_count": null,
      "outputs": [
        {
          "output_type": "stream",
          "name": "stdout",
          "text": [
            "Epoch 1/100\n",
            "938/938 [==============================] - 17s 16ms/step - loss: 75.3893 - accuracy: 0.0104\n",
            "Epoch 2/100\n",
            "938/938 [==============================] - 15s 16ms/step - loss: 67.6396 - accuracy: 0.0100\n",
            "Epoch 3/100\n",
            "938/938 [==============================] - 9s 10ms/step - loss: 67.5270 - accuracy: 0.0115\n",
            "Epoch 4/100\n",
            "938/938 [==============================] - 9s 10ms/step - loss: 67.4880 - accuracy: 0.0110\n",
            "Epoch 5/100\n",
            "938/938 [==============================] - 9s 10ms/step - loss: 67.4540 - accuracy: 0.0107\n",
            "Epoch 6/100\n",
            "938/938 [==============================] - 10s 10ms/step - loss: 67.4290 - accuracy: 0.0120\n",
            "Epoch 7/100\n",
            "938/938 [==============================] - 10s 10ms/step - loss: 67.4157 - accuracy: 0.0119\n",
            "Epoch 8/100\n",
            "938/938 [==============================] - 10s 10ms/step - loss: 67.3950 - accuracy: 0.0127\n",
            "Epoch 9/100\n",
            "938/938 [==============================] - 10s 10ms/step - loss: 67.3850 - accuracy: 0.0126\n",
            "Epoch 10/100\n",
            "938/938 [==============================] - 10s 10ms/step - loss: 67.3742 - accuracy: 0.0130\n",
            "Epoch 11/100\n",
            "938/938 [==============================] - 11s 12ms/step - loss: 67.3698 - accuracy: 0.0137\n",
            "Epoch 12/100\n",
            "938/938 [==============================] - 10s 10ms/step - loss: 67.3672 - accuracy: 0.0131\n",
            "Epoch 13/100\n",
            "938/938 [==============================] - 11s 12ms/step - loss: 67.3626 - accuracy: 0.0133\n",
            "Epoch 14/100\n",
            "938/938 [==============================] - 10s 10ms/step - loss: 67.3574 - accuracy: 0.0131\n",
            "Epoch 15/100\n",
            "938/938 [==============================] - 10s 10ms/step - loss: 67.3543 - accuracy: 0.0138\n",
            "Epoch 16/100\n",
            "938/938 [==============================] - 10s 10ms/step - loss: 67.3531 - accuracy: 0.0137\n",
            "Epoch 17/100\n",
            "938/938 [==============================] - 10s 10ms/step - loss: 67.3520 - accuracy: 0.0139\n",
            "Epoch 18/100\n",
            "938/938 [==============================] - 10s 11ms/step - loss: 67.3491 - accuracy: 0.0135\n",
            "Epoch 19/100\n",
            "938/938 [==============================] - 10s 11ms/step - loss: 67.3475 - accuracy: 0.0132\n",
            "Epoch 20/100\n",
            "938/938 [==============================] - 10s 11ms/step - loss: 67.3467 - accuracy: 0.0138\n",
            "Epoch 21/100\n",
            "938/938 [==============================] - 10s 11ms/step - loss: 67.3441 - accuracy: 0.0142\n",
            "Epoch 22/100\n",
            "938/938 [==============================] - 10s 11ms/step - loss: 67.3441 - accuracy: 0.0135\n",
            "Epoch 23/100\n",
            "938/938 [==============================] - 10s 11ms/step - loss: 67.3431 - accuracy: 0.0136\n",
            "Epoch 24/100\n",
            "938/938 [==============================] - 10s 11ms/step - loss: 67.3455 - accuracy: 0.0145\n",
            "Epoch 25/100\n",
            "938/938 [==============================] - 11s 11ms/step - loss: 67.3421 - accuracy: 0.0143\n",
            "Epoch 26/100\n",
            "938/938 [==============================] - 10s 11ms/step - loss: 67.3418 - accuracy: 0.0139\n",
            "Epoch 27/100\n",
            "938/938 [==============================] - 10s 11ms/step - loss: 67.3421 - accuracy: 0.0141\n",
            "Epoch 28/100\n",
            "938/938 [==============================] - 10s 11ms/step - loss: 67.3416 - accuracy: 0.0148\n",
            "Epoch 29/100\n",
            "938/938 [==============================] - 10s 10ms/step - loss: 67.3418 - accuracy: 0.0137\n",
            "Epoch 30/100\n",
            "938/938 [==============================] - 10s 11ms/step - loss: 67.3403 - accuracy: 0.0140\n",
            "Epoch 31/100\n",
            "938/938 [==============================] - 10s 10ms/step - loss: 67.3408 - accuracy: 0.0138\n",
            "Epoch 32/100\n",
            "938/938 [==============================] - 10s 11ms/step - loss: 67.3414 - accuracy: 0.0135\n",
            "Epoch 33/100\n",
            "938/938 [==============================] - 10s 11ms/step - loss: 67.3397 - accuracy: 0.0140\n",
            "Epoch 34/100\n",
            "938/938 [==============================] - 10s 10ms/step - loss: 67.3398 - accuracy: 0.0143\n",
            "Epoch 35/100\n",
            "938/938 [==============================] - 10s 11ms/step - loss: 67.3404 - accuracy: 0.0143\n",
            "Epoch 36/100\n",
            "938/938 [==============================] - 10s 11ms/step - loss: 67.3380 - accuracy: 0.0142\n",
            "Epoch 37/100\n",
            "938/938 [==============================] - 10s 11ms/step - loss: 67.3399 - accuracy: 0.0149\n",
            "Epoch 38/100\n",
            "938/938 [==============================] - 11s 11ms/step - loss: 67.3365 - accuracy: 0.0141\n",
            "Epoch 39/100\n",
            "938/938 [==============================] - 10s 11ms/step - loss: 67.3380 - accuracy: 0.0142\n",
            "Epoch 40/100\n",
            "938/938 [==============================] - 10s 10ms/step - loss: 67.3370 - accuracy: 0.0140\n",
            "Epoch 41/100\n",
            "938/938 [==============================] - 10s 10ms/step - loss: 67.3375 - accuracy: 0.0141\n",
            "Epoch 42/100\n",
            "938/938 [==============================] - 10s 11ms/step - loss: 67.3380 - accuracy: 0.0145\n",
            "Epoch 43/100\n",
            "938/938 [==============================] - 10s 11ms/step - loss: 67.3362 - accuracy: 0.0153\n",
            "Epoch 44/100\n",
            "938/938 [==============================] - 10s 11ms/step - loss: 67.3359 - accuracy: 0.0143\n",
            "Epoch 45/100\n",
            "938/938 [==============================] - 10s 10ms/step - loss: 67.3359 - accuracy: 0.0141\n",
            "Epoch 46/100\n",
            "938/938 [==============================] - 10s 10ms/step - loss: 67.3372 - accuracy: 0.0143\n",
            "Epoch 47/100\n",
            "938/938 [==============================] - 10s 10ms/step - loss: 67.3379 - accuracy: 0.0145\n",
            "Epoch 48/100\n",
            "938/938 [==============================] - 10s 11ms/step - loss: 67.3373 - accuracy: 0.0142\n",
            "Epoch 49/100\n",
            "938/938 [==============================] - 10s 11ms/step - loss: 67.3364 - accuracy: 0.0140\n",
            "Epoch 50/100\n",
            "938/938 [==============================] - 11s 12ms/step - loss: 67.3381 - accuracy: 0.0145\n",
            "Epoch 51/100\n",
            "938/938 [==============================] - 10s 11ms/step - loss: 67.3355 - accuracy: 0.0147\n",
            "Epoch 52/100\n",
            "938/938 [==============================] - 10s 11ms/step - loss: 67.3363 - accuracy: 0.0145\n",
            "Epoch 53/100\n",
            "938/938 [==============================] - 10s 11ms/step - loss: 67.3381 - accuracy: 0.0142\n",
            "Epoch 54/100\n",
            "938/938 [==============================] - 10s 11ms/step - loss: 67.3368 - accuracy: 0.0147\n",
            "Epoch 55/100\n",
            "938/938 [==============================] - 10s 11ms/step - loss: 67.3378 - accuracy: 0.0147\n",
            "Epoch 56/100\n",
            "938/938 [==============================] - 10s 11ms/step - loss: 67.3357 - accuracy: 0.0143\n",
            "Epoch 57/100\n",
            "938/938 [==============================] - 10s 11ms/step - loss: 67.3361 - accuracy: 0.0140\n",
            "Epoch 58/100\n",
            "938/938 [==============================] - 10s 11ms/step - loss: 67.3361 - accuracy: 0.0150\n",
            "Epoch 59/100\n",
            "938/938 [==============================] - 13s 13ms/step - loss: 67.3356 - accuracy: 0.0148\n",
            "Epoch 60/100\n",
            "938/938 [==============================] - 10s 11ms/step - loss: 67.3369 - accuracy: 0.0145\n",
            "Epoch 61/100\n",
            "938/938 [==============================] - 10s 11ms/step - loss: 67.3354 - accuracy: 0.0134\n",
            "Epoch 62/100\n",
            "938/938 [==============================] - 11s 12ms/step - loss: 67.3364 - accuracy: 0.0143\n",
            "Epoch 63/100\n",
            "938/938 [==============================] - 10s 11ms/step - loss: 67.3352 - accuracy: 0.0150\n",
            "Epoch 64/100\n",
            "938/938 [==============================] - 10s 11ms/step - loss: 67.3366 - accuracy: 0.0149\n",
            "Epoch 65/100\n",
            "938/938 [==============================] - 10s 11ms/step - loss: 67.3357 - accuracy: 0.0147\n",
            "Epoch 66/100\n",
            "938/938 [==============================] - 10s 11ms/step - loss: 67.3350 - accuracy: 0.0147\n",
            "Epoch 67/100\n",
            "938/938 [==============================] - 10s 11ms/step - loss: 67.3380 - accuracy: 0.0144\n",
            "Epoch 68/100\n",
            "938/938 [==============================] - 10s 11ms/step - loss: 67.3372 - accuracy: 0.0147\n",
            "Epoch 69/100\n",
            "938/938 [==============================] - 10s 11ms/step - loss: 67.3372 - accuracy: 0.0147\n",
            "Epoch 70/100\n",
            "938/938 [==============================] - 10s 11ms/step - loss: 67.3338 - accuracy: 0.0147\n",
            "Epoch 71/100\n",
            "938/938 [==============================] - 10s 11ms/step - loss: 67.3365 - accuracy: 0.0143\n",
            "Epoch 72/100\n",
            "938/938 [==============================] - 10s 11ms/step - loss: 67.3332 - accuracy: 0.0142\n",
            "Epoch 73/100\n",
            "938/938 [==============================] - 10s 11ms/step - loss: 67.3361 - accuracy: 0.0149\n",
            "Epoch 74/100\n",
            "938/938 [==============================] - 11s 12ms/step - loss: 67.3348 - accuracy: 0.0154\n",
            "Epoch 75/100\n",
            "938/938 [==============================] - 10s 11ms/step - loss: 67.3351 - accuracy: 0.0144\n",
            "Epoch 76/100\n",
            "938/938 [==============================] - 10s 11ms/step - loss: 67.3359 - accuracy: 0.0136\n",
            "Epoch 77/100\n",
            "938/938 [==============================] - 10s 11ms/step - loss: 67.3344 - accuracy: 0.0141\n",
            "Epoch 78/100\n",
            "938/938 [==============================] - 10s 11ms/step - loss: 67.3334 - accuracy: 0.0139\n",
            "Epoch 79/100\n",
            "938/938 [==============================] - 10s 11ms/step - loss: 67.3358 - accuracy: 0.0146\n",
            "Epoch 80/100\n",
            "938/938 [==============================] - 10s 11ms/step - loss: 67.3361 - accuracy: 0.0148\n",
            "Epoch 81/100\n",
            "938/938 [==============================] - 10s 11ms/step - loss: 67.3346 - accuracy: 0.0141\n",
            "Epoch 82/100\n",
            "938/938 [==============================] - 10s 11ms/step - loss: 67.3364 - accuracy: 0.0149\n",
            "Epoch 83/100\n",
            "938/938 [==============================] - 10s 11ms/step - loss: 67.3350 - accuracy: 0.0144\n",
            "Epoch 84/100\n",
            "938/938 [==============================] - 10s 11ms/step - loss: 67.3340 - accuracy: 0.0153\n",
            "Epoch 85/100\n",
            "938/938 [==============================] - 10s 11ms/step - loss: 67.3338 - accuracy: 0.0152\n",
            "Epoch 86/100\n",
            "938/938 [==============================] - 11s 12ms/step - loss: 67.3365 - accuracy: 0.0141\n",
            "Epoch 87/100\n",
            "938/938 [==============================] - 10s 11ms/step - loss: 67.3344 - accuracy: 0.0143\n",
            "Epoch 88/100\n",
            "938/938 [==============================] - 10s 11ms/step - loss: 67.3342 - accuracy: 0.0144\n",
            "Epoch 89/100\n",
            "938/938 [==============================] - 10s 11ms/step - loss: 67.3349 - accuracy: 0.0144\n",
            "Epoch 90/100\n",
            "938/938 [==============================] - 10s 11ms/step - loss: 67.3344 - accuracy: 0.0139\n",
            "Epoch 91/100\n",
            "938/938 [==============================] - 10s 11ms/step - loss: 67.3341 - accuracy: 0.0143\n",
            "Epoch 92/100\n",
            "938/938 [==============================] - 10s 11ms/step - loss: 67.3342 - accuracy: 0.0146\n",
            "Epoch 93/100\n",
            "938/938 [==============================] - 10s 11ms/step - loss: 67.3360 - accuracy: 0.0151\n",
            "Epoch 94/100\n",
            "938/938 [==============================] - 10s 11ms/step - loss: 67.3332 - accuracy: 0.0149\n",
            "Epoch 95/100\n",
            "938/938 [==============================] - 10s 11ms/step - loss: 67.3352 - accuracy: 0.0142\n",
            "Epoch 96/100\n",
            "938/938 [==============================] - 10s 11ms/step - loss: 67.3326 - accuracy: 0.0151\n",
            "Epoch 97/100\n",
            "938/938 [==============================] - 10s 11ms/step - loss: 67.3343 - accuracy: 0.0148\n",
            "Epoch 98/100\n",
            "938/938 [==============================] - 11s 12ms/step - loss: 67.3341 - accuracy: 0.0152\n",
            "Epoch 99/100\n",
            "938/938 [==============================] - 10s 11ms/step - loss: 67.3344 - accuracy: 0.0146\n",
            "Epoch 100/100\n",
            "938/938 [==============================] - 10s 11ms/step - loss: 67.3326 - accuracy: 0.0147\n"
          ]
        },
        {
          "output_type": "execute_result",
          "data": {
            "text/plain": [
              "<keras.callbacks.History at 0x7f550d662e50>"
            ]
          },
          "metadata": {},
          "execution_count": 14
        }
      ]
    },
    {
      "cell_type": "code",
      "source": [
        "z_sample = np.random.randn(1,z_dims)\n",
        "x_decoded = Decd.predict([z_sample])\n",
        "digit = x_decoded[0].reshape(28, 28)"
      ],
      "metadata": {
        "id": "lswqmcmB8Xp8"
      },
      "execution_count": null,
      "outputs": []
    },
    {
      "cell_type": "code",
      "source": [
        "plt.imshow(digit)"
      ],
      "metadata": {
        "colab": {
          "base_uri": "https://localhost:8080/",
          "height": 282
        },
        "id": "_xBQ69TJF7Cw",
        "outputId": "b8042e35-194c-462c-84fc-ad1597800bf5"
      },
      "execution_count": null,
      "outputs": [
        {
          "output_type": "execute_result",
          "data": {
            "text/plain": [
              "<matplotlib.image.AxesImage at 0x7f550cedfe90>"
            ]
          },
          "metadata": {},
          "execution_count": 22
        },
        {
          "output_type": "display_data",
          "data": {
            "text/plain": [
              "<Figure size 432x288 with 1 Axes>"
            ],
            "image/png": "[encoded data removed]"
          },
          "metadata": {
            "needs_background": "light"
          }
        }
      ]
    },
    {
      "cell_type": "code",
      "source": [
        "zd = Encd(digit.reshape(1, 1, 784))[2]"
      ],
      "metadata": {
        "id": "PyzYo1FlF-iL"
      },
      "execution_count": null,
      "outputs": []
    },
    {
      "cell_type": "code",
      "source": [
        "zd"
      ],
      "metadata": {
        "colab": {
          "base_uri": "https://localhost:8080/"
        },
        "id": "ppNdRpVgGzdu",
        "outputId": "9d11b758-003b-4402-c1b3-d0d4df9de421"
      },
      "execution_count": null,
      "outputs": [
        {
          "output_type": "execute_result",
          "data": {
            "text/plain": [
              "<tf.Tensor: shape=(1, 5), dtype=float32, numpy=\n",
              "array([[-0.14654562, -0.06999511, -0.06014408,  0.19976884,  0.16494924]],\n",
              "      dtype=float32)>"
            ]
          },
          "metadata": {},
          "execution_count": 18
        }
      ]
    },
    {
      "cell_type": "code",
      "source": [],
      "metadata": {
        "id": "G1nhO43rG4yR"
      },
      "execution_count": null,
      "outputs": []
    }
  ]
}