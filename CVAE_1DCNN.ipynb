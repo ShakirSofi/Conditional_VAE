{
  "nbformat": 4,
  "nbformat_minor": 0,
  "metadata": {
    "colab": {
      "provenance": [],
      "collapsed_sections": []
    },
    "kernelspec": {
      "name": "python3",
      "display_name": "Python 3"
    },
    "language_info": {
      "name": "python"
    }
  },
  "cells": [
    {
      "cell_type": "code",
      "execution_count": 27,
      "metadata": {
        "id": "Y98yluypCeoj"
      },
      "outputs": [],
      "source": [
        "import numpy as np\n",
        "import matplotlib.pyplot as plt\n",
        "from scipy.stats import norm\n",
        "# Keras uses TensforFlow backend as default\n",
        "from keras.layers import Input, Dense, Lambda, Flatten, Reshape, Concatenate\n",
        "from keras.layers import Conv1D,UpSampling1D\n",
        "from keras.models import Model\n",
        "from keras import backend as K\n",
        "from keras import metrics\n",
        "from keras.datasets import mnist\n",
        "from sklearn.preprocessing import OneHotEncoder"
      ]
    },
    {
      "cell_type": "code",
      "source": [
        "import tensorflow as tf\n",
        "\n",
        "import keras\n",
        "from matplotlib import pyplot as plt\n",
        "import numpy as np\n",
        "\n",
        "%matplotlib inline\n",
        "import keras.layers as layer\n",
        "from keras import backend as K"
      ],
      "metadata": {
        "id": "p1GrVIeAaD2r"
      },
      "execution_count": 28,
      "outputs": []
    },
    {
      "cell_type": "code",
      "source": [
        "(x_train, y_train), (x_test, y_test) = mnist.load_data()\n",
        "x_train = x_train.reshape(-1,28*28).astype('float32') / 255.\n",
        "x_test = x_test.reshape(-1, 28*28).astype('float32') / 255.\n"
      ],
      "metadata": {
        "id": "2o8QpqpXLpU_"
      },
      "execution_count": 29,
      "outputs": []
    },
    {
      "cell_type": "code",
      "source": [
        "oh_encoder = OneHotEncoder(categories='auto', sparse=False)\n",
        "y_train_oh = oh_encoder.fit_transform(y_train.reshape(-1, 1))\n",
        "y_test_oh = oh_encoder.transform(y_test.reshape(-1, 1))\n"
      ],
      "metadata": {
        "id": "VrHR5KvzfJC6"
      },
      "execution_count": 30,
      "outputs": []
    },
    {
      "cell_type": "code",
      "source": [
        "x_train_  = np.expand_dims(x_train, 1)\n",
        "y_train_oh  = np.expand_dims(y_train_oh, 1)"
      ],
      "metadata": {
        "id": "dhdO3GlDM9AI"
      },
      "execution_count": 34,
      "outputs": []
    },
    {
      "cell_type": "code",
      "source": [
        "x_test_  = np.expand_dims(x_test, 1)\n",
        "y_test_oh  = np.expand_dims(y_test_oh, 1)"
      ],
      "metadata": {
        "id": "LclmRroaNNhw"
      },
      "execution_count": 35,
      "outputs": []
    },
    {
      "cell_type": "code",
      "source": [
        "x_train_.shape, y_train_oh.shape,x_test_.shape, y_test_oh.shape"
      ],
      "metadata": {
        "colab": {
          "base_uri": "https://localhost:8080/"
        },
        "id": "c1v4Y8bwfNik",
        "outputId": "795a713e-2940-4805-b338-1c734d3500ce"
      },
      "execution_count": 36,
      "outputs": [
        {
          "output_type": "execute_result",
          "data": {
            "text/plain": [
              "((60000, 1, 784), (60000, 1, 10), (10000, 1, 784), (10000, 1, 10))"
            ]
          },
          "metadata": {},
          "execution_count": 36
        }
      ]
    },
    {
      "cell_type": "code",
      "source": [
        "h_size = 10\n",
        "z_dims = 2\n",
        "n_classes = 10\n",
        "input_img =  keras.Input(shape=(1, 28*28))\n",
        "input_cond = Input(shape=(1, n_classes))\n",
        "def sample_z(args):\n",
        "    mu, log_var = args\n",
        "    batch = K.shape(mu)[0]\n",
        "    eps = K.random_normal(shape=(z_dims, ))\n",
        "    return mu + K.exp(log_var / 2) * eps\n",
        "\n",
        "\n",
        "\n",
        "# Encoder\n",
        "traj_input  =  Concatenate(axis=-1)([input_img, input_cond])\n",
        "traj_input = layer.Conv1D(h_size, 3, activation = 'relu', padding = 'same')(traj_input)\n",
        "traj_input = layer.MaxPool1D(4, padding = 'same')(traj_input)\n",
        "traj_input = layer.Conv1D(1, 3, activation = 'relu', padding = 'same')(traj_input)\n",
        "traj_input = layer.MaxPool1D(4, padding = 'same')(traj_input)\n",
        "traj_input = layer.Flatten()(traj_input)\n",
        "\n",
        "# Sampling\n",
        "\n",
        "z_mean = layer.Dense(z_dims, activation='tanh')(traj_input)\n",
        "z_var_log = layer.Dense(z_dims, activation='linear')(traj_input)\n",
        "z = Lambda(sample_z, output_shape=(z_dims,))([z_mean, z_var_log])\n",
        "z= layer.Reshape((1, z_dims))(z)\n",
        "z_cond = Concatenate(axis=-1)([z, input_cond])\n",
        "\n",
        "# Decoder\n",
        "z_in = Input(shape=(1, z_dims,))\n",
        "cond_in = Input(shape=(1, n_classes,))\n",
        "dec_input = Concatenate(axis=-1)([z_in, cond_in])\n",
        "z_traj_input = layer.Dense(50)(dec_input)\n",
        "z_traj_input = layer.Reshape((25, 2))(z_traj_input)\n",
        "z_traj_input = layer.Conv1D(h_size, 3, activation = 'relu', padding = 'same')(z_traj_input)\n",
        "c = layer.UpSampling1D(2)(z_traj_input)\n",
        "z_traj_input =   layer.UpSampling1D(2)(z_traj_input) #layer.Conv1D(2, 1, activation = 'relu', padding = 'same')(z_traj_input)\n",
        "z_traj_input = layer.Flatten()(z_traj_input)\n",
        "z_traj_input = layer.Dense(28*28, activation='sigmoid')(z_traj_input)\n",
        "traj_hat = layer.Reshape((1, 28*28))(z_traj_input)"
      ],
      "metadata": {
        "id": "qFuBH6L_at9B"
      },
      "execution_count": 67,
      "outputs": []
    },
    {
      "cell_type": "code",
      "execution_count": 68,
      "metadata": {
        "id": "k7-SQTG8Aad8"
      },
      "outputs": [],
      "source": [
        "encoder = Model([input_img, input_cond], [z_mean, z_var_log, z, input_cond])\n",
        "# encoder.summary()"
      ]
    },
    {
      "cell_type": "code",
      "execution_count": 69,
      "metadata": {
        "id": "E6xT_dtNAad8"
      },
      "outputs": [],
      "source": [
        "decoder =  Model([z_in, cond_in], traj_hat)\n",
        "# decoder.summary()"
      ]
    },
    {
      "cell_type": "code",
      "source": [
        "output= decoder(encoder([[input_img, input_cond]])[2:])"
      ],
      "metadata": {
        "id": "a_PeJouAhYI2"
      },
      "execution_count": 70,
      "outputs": []
    },
    {
      "cell_type": "code",
      "source": [
        "def loss_func(encoder_mu, encoder_log_variance):\n",
        "    def vae_reconstruction_loss(y_true, y_predict):\n",
        "        reconstruction_loss_factor = 1000\n",
        "        reconstruction_loss = tf.keras.backend.mean(tf.keras.backend.square(y_true-y_predict))\n",
        "        return reconstruction_loss_factor * reconstruction_loss\n",
        "\n",
        "    def vae_kl_loss(encoder_mu, encoder_log_variance):\n",
        "        kl_loss = -0.5 * tf.keras.backend.sum(1.0 + encoder_log_variance - tf.keras.backend.square(encoder_mu) - tf.keras.backend.exp(encoder_log_variance), axis=1)\n",
        "        return kl_loss\n",
        "\n",
        "    def vae_kl_loss_metric(y_true, y_predict):\n",
        "        kl_loss = -0.5 * tf.keras.backend.sum(1.0 + encoder_log_variance - tf.keras.backend.square(encoder_mu) - tf.keras.backend.exp(encoder_log_variance), axis=1)\n",
        "        return kl_loss\n",
        "\n",
        "    def vae_loss(y_true, y_predict):\n",
        "        reconstruction_loss = vae_reconstruction_loss(y_true, y_predict)\n",
        "        kl_loss = vae_kl_loss(y_true, y_predict)\n",
        "\n",
        "        loss = reconstruction_loss + kl_loss\n",
        "        return loss\n",
        "\n",
        "    return vae_loss"
      ],
      "metadata": {
        "id": "1W1wP4psDNig"
      },
      "execution_count": 71,
      "outputs": []
    },
    {
      "cell_type": "code",
      "source": [
        "cvae = Model([input_img, input_cond], output)\n",
        "cvae.compile(optimizer='adam', loss=loss_func(z_mean, z_var_log), metrics=['accuracy'])"
      ],
      "metadata": {
        "id": "8kISn1YJoqna"
      },
      "execution_count": 72,
      "outputs": []
    },
    {
      "cell_type": "code",
      "source": [
        "cvae.summary()"
      ],
      "metadata": {
        "colab": {
          "base_uri": "https://localhost:8080/"
        },
        "id": "4bcrGPZ9iMY9",
        "outputId": "94e60974-4579-482b-f831-6403fd2f2c75"
      },
      "execution_count": 73,
      "outputs": [
        {
          "output_type": "stream",
          "name": "stdout",
          "text": [
            "Model: \"model_12\"\n",
            "__________________________________________________________________________________________________\n",
            " Layer (type)                   Output Shape         Param #     Connected to                     \n",
            "==================================================================================================\n",
            " input_30 (InputLayer)          [(None, 1, 784)]     0           []                               \n",
            "                                                                                                  \n",
            " input_31 (InputLayer)          [(None, 1, 10)]      0           []                               \n",
            "                                                                                                  \n",
            " model_10 (Functional)          [(None, 2),          23869       ['input_30[0][0]',               \n",
            "                                 (None, 2),                       'input_31[0][0]']               \n",
            "                                 (None, 1, 2),                                                    \n",
            "                                 (None, 1, 10)]                                                   \n",
            "                                                                                                  \n",
            " model_11 (Functional)          (None, 1, 784)       393504      ['model_10[0][2]',               \n",
            "                                                                  'model_10[0][3]']               \n",
            "                                                                                                  \n",
            "==================================================================================================\n",
            "Total params: 417,373\n",
            "Trainable params: 417,373\n",
            "Non-trainable params: 0\n",
            "__________________________________________________________________________________________________\n"
          ]
        }
      ]
    },
    {
      "cell_type": "code",
      "source": [
        "# train\n",
        "cvae.fit([x_train_, y_train_oh], x_train_ ,\n",
        "       shuffle=True,\n",
        "       epochs=10,\n",
        "       batch_size=64,\n",
        "       verbose=1)"
      ],
      "metadata": {
        "colab": {
          "base_uri": "https://localhost:8080/"
        },
        "id": "ABwOuKxxqqa2",
        "outputId": "41252af6-e106-49df-f6e4-ebeabaf2b6f5"
      },
      "execution_count": 74,
      "outputs": [
        {
          "output_type": "stream",
          "name": "stdout",
          "text": [
            "Epoch 1/10\n",
            "938/938 [==============================] - 16s 16ms/step - loss: 59.3337 - accuracy: 0.0124\n",
            "Epoch 2/10\n",
            "938/938 [==============================] - 14s 15ms/step - loss: 53.7612 - accuracy: 0.0142\n",
            "Epoch 3/10\n",
            "938/938 [==============================] - 15s 16ms/step - loss: 53.6629 - accuracy: 0.0144\n",
            "Epoch 4/10\n",
            "938/938 [==============================] - 15s 16ms/step - loss: 53.6285 - accuracy: 0.0147\n",
            "Epoch 5/10\n",
            "938/938 [==============================] - 17s 18ms/step - loss: 53.5883 - accuracy: 0.0141\n",
            "Epoch 6/10\n",
            "938/938 [==============================] - 15s 16ms/step - loss: 53.5711 - accuracy: 0.0146\n",
            "Epoch 7/10\n",
            "938/938 [==============================] - 14s 15ms/step - loss: 53.5529 - accuracy: 0.0143\n",
            "Epoch 8/10\n",
            "938/938 [==============================] - 14s 15ms/step - loss: 53.5395 - accuracy: 0.0143\n",
            "Epoch 9/10\n",
            "938/938 [==============================] - 15s 16ms/step - loss: 53.5280 - accuracy: 0.0145\n",
            "Epoch 10/10\n",
            "938/938 [==============================] - 15s 16ms/step - loss: 53.5187 - accuracy: 0.0145\n"
          ]
        },
        {
          "output_type": "execute_result",
          "data": {
            "text/plain": [
              "<keras.callbacks.History at 0x7fcbe7e9b490>"
            ]
          },
          "metadata": {},
          "execution_count": 74
        }
      ]
    },
    {
      "cell_type": "code",
      "source": [
        "num_class = 5\n",
        "pred_class = np.array(oh_encoder.transform([[num_class]])).reshape(1,1,-1)\n",
        "pred_noise = np.random.randn(1, z_dims).reshape(1,1,-1)\n",
        "pred_out = decoder.predict([pred_noise, pred_class])"
      ],
      "metadata": {
        "id": "lswqmcmB8Xp8"
      },
      "execution_count": 91,
      "outputs": []
    },
    {
      "cell_type": "code",
      "source": [
        "digit = pred_out.reshape(28, 28)"
      ],
      "metadata": {
        "id": "nh_vVCUskpxd"
      },
      "execution_count": 92,
      "outputs": []
    },
    {
      "cell_type": "code",
      "source": [
        "plt.imshow(digit)"
      ],
      "metadata": {
        "colab": {
          "base_uri": "https://localhost:8080/",
          "height": 282
        },
        "id": "_xBQ69TJF7Cw",
        "outputId": "d023aca1-9b50-432b-8f95-c32ea733fe3b"
      },
      "execution_count": 93,
      "outputs": [
        {
          "output_type": "execute_result",
          "data": {
            "text/plain": [
              "<matplotlib.image.AxesImage at 0x7fcbe2f3e750>"
            ]
          },
          "metadata": {},
          "execution_count": 93
        },
        {
          "output_type": "display_data",
          "data": {
            "text/plain": [
              "<Figure size 432x288 with 1 Axes>"
            ],
            "image/png": "[encoded data removed]"
          },
          "metadata": {
            "needs_background": "light"
          }
        }
      ]
    }
  ]
}