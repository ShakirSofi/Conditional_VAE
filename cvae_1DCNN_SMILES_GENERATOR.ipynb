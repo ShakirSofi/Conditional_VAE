{
  "nbformat": 4,
  "nbformat_minor": 0,
  "metadata": {
    "colab": {
      "provenance": [],
      "collapsed_sections": []
    },
    "kernelspec": {
      "name": "python3",
      "display_name": "Python 3"
    },
    "language_info": {
      "name": "python"
    }
  },
  "cells": [
    {
      "cell_type": "code",
      "execution_count": 15,
      "metadata": {
        "colab": {
          "base_uri": "https://localhost:8080/"
        },
        "id": "gKoOqC7P1s3o",
        "outputId": "555bbc18-d378-4c4f-fdab-62a4db4f67d7"
      },
      "outputs": [
        {
          "output_type": "stream",
          "name": "stdout",
          "text": [
            "Looking in indexes: https://pypi.org/simple, https://us-python.pkg.dev/colab-wheels/public/simple/\n",
            "Requirement already satisfied: rdkit-pypi in /usr/local/lib/python3.7/dist-packages (2022.3.5)\n",
            "Requirement already satisfied: Pillow in /usr/local/lib/python3.7/dist-packages (from rdkit-pypi) (7.1.2)\n",
            "Requirement already satisfied: numpy in /usr/local/lib/python3.7/dist-packages (from rdkit-pypi) (1.21.6)\n"
          ]
        }
      ],
      "source": [
        "!pip install rdkit-pypi"
      ]
    },
    {
      "cell_type": "code",
      "execution_count": 16,
      "metadata": {
        "colab": {
          "base_uri": "https://localhost:8080/"
        },
        "id": "Rt5b4pq94R_H",
        "outputId": "267fd82e-6c20-4111-88f6-dc14a18ed1ae"
      },
      "outputs": [
        {
          "output_type": "stream",
          "name": "stdout",
          "text": [
            "Looking in indexes: https://pypi.org/simple, https://us-python.pkg.dev/colab-wheels/public/simple/\n",
            "Requirement already satisfied: chemfp in /usr/local/lib/python3.7/dist-packages (1.6.1)\n"
          ]
        }
      ],
      "source": [
        "!pip install chemfp"
      ]
    },
    {
      "cell_type": "code",
      "execution_count": 2,
      "metadata": {
        "id": "Y-eIZzkp1zBF"
      },
      "outputs": [],
      "source": [
        "from rdkit import Chem\n",
        "from rdkit.Chem.Draw import IPythonConsole\n",
        "from rdkit.Chem import MACCSkeys\n",
        "from rdkit.Chem import Draw\n",
        "IPythonConsole.ipython_useSVG=True  #< set this to False if you want PNGs instead of SVGs\n",
        "from collections import OrderedDict\n",
        "from itertools import chain\n",
        "from sklearn.utils import shuffle"
      ]
    },
    {
      "cell_type": "code",
      "execution_count": 3,
      "metadata": {
        "id": "oIiHu9zLV3B_"
      },
      "outputs": [],
      "source": [
        "import matplotlib.pyplot as plt\n",
        "import numpy as np\n",
        "import pandas as pd\n",
        "import sys"
      ]
    },
    {
      "cell_type": "code",
      "execution_count": 4,
      "metadata": {
        "id": "Y98yluypCeoj"
      },
      "outputs": [],
      "source": [
        "from scipy.stats import norm\n",
        "# Keras uses TensforFlow backend as default\n",
        "from keras.layers import Input, Dense, Lambda, Flatten, Reshape, Concatenate\n",
        "from keras.layers import Conv1D,UpSampling1D\n",
        "from keras.models import Model\n",
        "from keras import backend as K\n",
        "from keras import metrics\n",
        "from keras.datasets import mnist\n",
        "from sklearn.preprocessing import OneHotEncoder"
      ]
    },
    {
      "cell_type": "code",
      "source": [
        "import tensorflow as tf\n",
        "\n",
        "import keras\n",
        "from matplotlib import pyplot as plt\n",
        "import numpy as np\n",
        "\n",
        "%matplotlib inline\n",
        "import keras.layers as layer\n",
        "from keras import backend as K\n",
        "from sklearn.model_selection import train_test_split"
      ],
      "metadata": {
        "id": "p1GrVIeAaD2r"
      },
      "execution_count": 5,
      "outputs": []
    },
    {
      "cell_type": "code",
      "execution_count": 6,
      "metadata": {
        "id": "tWm0VGUjW8q8"
      },
      "outputs": [],
      "source": [
        "import pandas as pd\n",
        "data = pd.read_csv('/content/smiles_prop_G150.txt', names = ['SMI', 'G150'], sep = ' ')"
      ]
    },
    {
      "cell_type": "code",
      "execution_count": 7,
      "metadata": {
        "id": "vdExQZzAfBme"
      },
      "outputs": [],
      "source": [
        "data = data.drop_duplicates()"
      ]
    },
    {
      "cell_type": "code",
      "execution_count": 8,
      "metadata": {
        "id": "V9szDZ4OyflW"
      },
      "outputs": [],
      "source": [
        "def catg(x):\n",
        "    if (x<-3):\n",
        "        return 'a'\n",
        "    elif (x>=-3 and x<-1):\n",
        "        return 'b'  \n",
        "    elif (x>=-1 and x<1):\n",
        "        return 'c'  \n",
        "    elif (x>=1 and x<3):\n",
        "        return 'd'  \n",
        "    elif (x>=3 and x<5):\n",
        "        return 'e'  \n",
        "    elif (x>=5 and x<7):\n",
        "        return 'f'  \n",
        "    elif (x>=7 and x<9):\n",
        "        return 'g'  \n",
        "    elif (x>=9 and x<11):\n",
        "        return 'h'  \n",
        "    elif (x>=11):\n",
        "        return 'i'           "
      ]
    },
    {
      "cell_type": "code",
      "execution_count": 9,
      "metadata": {
        "id": "DO7vp60GAVVi"
      },
      "outputs": [],
      "source": [
        "data['G150'] = data['G150'].apply(catg)"
      ]
    },
    {
      "cell_type": "code",
      "execution_count": 10,
      "metadata": {
        "colab": {
          "base_uri": "https://localhost:8080/",
          "height": 300
        },
        "id": "zvaIgM02a6Wx",
        "outputId": "40e2f033-fdfe-41eb-9723-d5ec23332e97"
      },
      "outputs": [
        {
          "output_type": "execute_result",
          "data": {
            "text/plain": [
              "                                                 SMI G150\n",
              "0  Cl[Pt]23(Cl)(Cl)[n+]1c(cccc1)C(=[N+]2[N-]C(=[S...    h\n",
              "1  [OH+]2[Ir+3](N1C(CCC1)C2=O)(P(C)(C)C)(P(C)(C)C...    e\n",
              "2  [OH+]2[Ir+3]([n+]1c(cccc1)C2=O)(P(C)(C)C)(P(C)...    e\n",
              "3  [OH+]1[Ir+3](NC(CO)C1=O)(P(C)(C)C)(P(C)(C)C)P(...    e\n",
              "4  [OH+]1[Ir+3](NC(C(C)O)C1=O)(P(C)(C)C)(P(C)(C)C...    e\n",
              "5  c1cc3[n+](cc1)[Cu]2(Br)([S+]=C([N-][N+]2=C3)N(...    g\n",
              "6              P(=O)(CN1CC(C)CCC1)(c2ccccc2)c3ccccc3    e\n",
              "7  c1cc3[n+](cc1)[Cu+]2(Br)[S+]=C([N-][N+]2=C3C)N...    g"
            ],
            "text/html": [
              "\n",
              "  <div id=\"df-adc31e81-ef71-4400-8d17-05e2fcb5d1ac\">\n",
              "    <div class=\"colab-df-container\">\n",
              "      <div>\n",
              "<style scoped>\n",
              "    .dataframe tbody tr th:only-of-type {\n",
              "        vertical-align: middle;\n",
              "    }\n",
              "\n",
              "    .dataframe tbody tr th {\n",
              "        vertical-align: top;\n",
              "    }\n",
              "\n",
              "    .dataframe thead th {\n",
              "        text-align: right;\n",
              "    }\n",
              "</style>\n",
              "<table border=\"1\" class=\"dataframe\">\n",
              "  <thead>\n",
              "    <tr style=\"text-align: right;\">\n",
              "      <th></th>\n",
              "      <th>SMI</th>\n",
              "      <th>G150</th>\n",
              "    </tr>\n",
              "  </thead>\n",
              "  <tbody>\n",
              "    <tr>\n",
              "      <th>0</th>\n",
              "      <td>Cl[Pt]23(Cl)(Cl)[n+]1c(cccc1)C(=[N+]2[N-]C(=[S...</td>\n",
              "      <td>h</td>\n",
              "    </tr>\n",
              "    <tr>\n",
              "      <th>1</th>\n",
              "      <td>[OH+]2[Ir+3](N1C(CCC1)C2=O)(P(C)(C)C)(P(C)(C)C...</td>\n",
              "      <td>e</td>\n",
              "    </tr>\n",
              "    <tr>\n",
              "      <th>2</th>\n",
              "      <td>[OH+]2[Ir+3]([n+]1c(cccc1)C2=O)(P(C)(C)C)(P(C)...</td>\n",
              "      <td>e</td>\n",
              "    </tr>\n",
              "    <tr>\n",
              "      <th>3</th>\n",
              "      <td>[OH+]1[Ir+3](NC(CO)C1=O)(P(C)(C)C)(P(C)(C)C)P(...</td>\n",
              "      <td>e</td>\n",
              "    </tr>\n",
              "    <tr>\n",
              "      <th>4</th>\n",
              "      <td>[OH+]1[Ir+3](NC(C(C)O)C1=O)(P(C)(C)C)(P(C)(C)C...</td>\n",
              "      <td>e</td>\n",
              "    </tr>\n",
              "    <tr>\n",
              "      <th>5</th>\n",
              "      <td>c1cc3[n+](cc1)[Cu]2(Br)([S+]=C([N-][N+]2=C3)N(...</td>\n",
              "      <td>g</td>\n",
              "    </tr>\n",
              "    <tr>\n",
              "      <th>6</th>\n",
              "      <td>P(=O)(CN1CC(C)CCC1)(c2ccccc2)c3ccccc3</td>\n",
              "      <td>e</td>\n",
              "    </tr>\n",
              "    <tr>\n",
              "      <th>7</th>\n",
              "      <td>c1cc3[n+](cc1)[Cu+]2(Br)[S+]=C([N-][N+]2=C3C)N...</td>\n",
              "      <td>g</td>\n",
              "    </tr>\n",
              "  </tbody>\n",
              "</table>\n",
              "</div>\n",
              "      <button class=\"colab-df-convert\" onclick=\"convertToInteractive('df-adc31e81-ef71-4400-8d17-05e2fcb5d1ac')\"\n",
              "              title=\"Convert this dataframe to an interactive table.\"\n",
              "              style=\"display:none;\">\n",
              "        \n",
              "  <svg xmlns=\"http://www.w3.org/2000/svg\" height=\"24px\"viewBox=\"0 0 24 24\"\n",
              "       width=\"24px\">\n",
              "    <path d=\"M0 0h24v24H0V0z\" fill=\"none\"/>\n",
              "    <path d=\"M18.56 5.44l.94 2.06.94-2.06 2.06-.94-2.06-.94-.94-2.06-.94 2.06-2.06.94zm-11 1L8.5 8.5l.94-2.06 2.06-.94-2.06-.94L8.5 2.5l-.94 2.06-2.06.94zm10 10l.94 2.06.94-2.06 2.06-.94-2.06-.94-.94-2.06-.94 2.06-2.06.94z\"/><path d=\"M17.41 7.96l-1.37-1.37c-.4-.4-.92-.59-1.43-.59-.52 0-1.04.2-1.43.59L10.3 9.45l-7.72 7.72c-.78.78-.78 2.05 0 2.83L4 21.41c.39.39.9.59 1.41.59.51 0 1.02-.2 1.41-.59l7.78-7.78 2.81-2.81c.8-.78.8-2.07 0-2.86zM5.41 20L4 18.59l7.72-7.72 1.47 1.35L5.41 20z\"/>\n",
              "  </svg>\n",
              "      </button>\n",
              "      \n",
              "  <style>\n",
              "    .colab-df-container {\n",
              "      display:flex;\n",
              "      flex-wrap:wrap;\n",
              "      gap: 12px;\n",
              "    }\n",
              "\n",
              "    .colab-df-convert {\n",
              "      background-color: #E8F0FE;\n",
              "      border: none;\n",
              "      border-radius: 50%;\n",
              "      cursor: pointer;\n",
              "      display: none;\n",
              "      fill: #1967D2;\n",
              "      height: 32px;\n",
              "      padding: 0 0 0 0;\n",
              "      width: 32px;\n",
              "    }\n",
              "\n",
              "    .colab-df-convert:hover {\n",
              "      background-color: #E2EBFA;\n",
              "      box-shadow: 0px 1px 2px rgba(60, 64, 67, 0.3), 0px 1px 3px 1px rgba(60, 64, 67, 0.15);\n",
              "      fill: #174EA6;\n",
              "    }\n",
              "\n",
              "    [theme=dark] .colab-df-convert {\n",
              "      background-color: #3B4455;\n",
              "      fill: #D2E3FC;\n",
              "    }\n",
              "\n",
              "    [theme=dark] .colab-df-convert:hover {\n",
              "      background-color: #434B5C;\n",
              "      box-shadow: 0px 1px 3px 1px rgba(0, 0, 0, 0.15);\n",
              "      filter: drop-shadow(0px 1px 2px rgba(0, 0, 0, 0.3));\n",
              "      fill: #FFFFFF;\n",
              "    }\n",
              "  </style>\n",
              "\n",
              "      <script>\n",
              "        const buttonEl =\n",
              "          document.querySelector('#df-adc31e81-ef71-4400-8d17-05e2fcb5d1ac button.colab-df-convert');\n",
              "        buttonEl.style.display =\n",
              "          google.colab.kernel.accessAllowed ? 'block' : 'none';\n",
              "\n",
              "        async function convertToInteractive(key) {\n",
              "          const element = document.querySelector('#df-adc31e81-ef71-4400-8d17-05e2fcb5d1ac');\n",
              "          const dataTable =\n",
              "            await google.colab.kernel.invokeFunction('convertToInteractive',\n",
              "                                                     [key], {});\n",
              "          if (!dataTable) return;\n",
              "\n",
              "          const docLinkHtml = 'Like what you see? Visit the ' +\n",
              "            '<a target=\"_blank\" href=https://colab.research.google.com/notebooks/data_table.ipynb>data table notebook</a>'\n",
              "            + ' to learn more about interactive tables.';\n",
              "          element.innerHTML = '';\n",
              "          dataTable['output_type'] = 'display_data';\n",
              "          await google.colab.output.renderOutput(dataTable, element);\n",
              "          const docLink = document.createElement('div');\n",
              "          docLink.innerHTML = docLinkHtml;\n",
              "          element.appendChild(docLink);\n",
              "        }\n",
              "      </script>\n",
              "    </div>\n",
              "  </div>\n",
              "  "
            ]
          },
          "metadata": {},
          "execution_count": 10
        }
      ],
      "source": [
        "data.head(8)"
      ]
    },
    {
      "cell_type": "code",
      "source": [
        "unique_g150 = sorted(list(OrderedDict.fromkeys(chain.from_iterable(data['G150']))))\n",
        "unique_g150"
      ],
      "metadata": {
        "colab": {
          "base_uri": "https://localhost:8080/"
        },
        "id": "XmslwGSfmYg7",
        "outputId": "cfa2e07c-a11c-4106-91b3-b4632b7aee12"
      },
      "execution_count": 11,
      "outputs": [
        {
          "output_type": "execute_result",
          "data": {
            "text/plain": [
              "['a', 'b', 'c', 'd', 'e', 'f', 'g', 'h', 'i']"
            ]
          },
          "metadata": {},
          "execution_count": 11
        }
      ]
    },
    {
      "cell_type": "code",
      "source": [
        "g150_to_int = dict((c, i) for i, c in enumerate(unique_g150))\n",
        "g150_to_int"
      ],
      "metadata": {
        "colab": {
          "base_uri": "https://localhost:8080/"
        },
        "id": "HxeSWT8bnDdp",
        "outputId": "8df6e4c9-cf86-4a77-c845-5994c0c12c31"
      },
      "execution_count": 12,
      "outputs": [
        {
          "output_type": "execute_result",
          "data": {
            "text/plain": [
              "{'a': 0, 'b': 1, 'c': 2, 'd': 3, 'e': 4, 'f': 5, 'g': 6, 'h': 7, 'i': 8}"
            ]
          },
          "metadata": {},
          "execution_count": 12
        }
      ]
    },
    {
      "cell_type": "code",
      "source": [
        "data.iloc[0]['SMI']"
      ],
      "metadata": {
        "colab": {
          "base_uri": "https://localhost:8080/",
          "height": 35
        },
        "id": "5eyGP0fHT8Cg",
        "outputId": "6ae07069-191f-42aa-cad6-9694c7eba5d3"
      },
      "execution_count": 13,
      "outputs": [
        {
          "output_type": "execute_result",
          "data": {
            "text/plain": [
              "'Cl[Pt]23(Cl)(Cl)[n+]1c(cccc1)C(=[N+]2[N-]C(=[S+]3)N4CC5CCC(C4)CC5)C'"
            ],
            "application/vnd.google.colaboratory.intrinsic+json": {
              "type": "string"
            }
          },
          "metadata": {},
          "execution_count": 13
        }
      ]
    },
    {
      "cell_type": "code",
      "execution_count": 14,
      "metadata": {
        "colab": {
          "base_uri": "https://localhost:8080/",
          "height": 171
        },
        "id": "aGsXUshbwrhZ",
        "outputId": "60e0c7d8-dcb3-41b6-cd1d-1cddbb25ed9a"
      },
      "outputs": [
        {
          "output_type": "execute_result",
          "data": {
            "text/plain": [
              "<rdkit.Chem.rdchem.Mol at 0x7f6c549d0710>"
            ],
            "text/html": [
              "<?xml version='1.0' encoding='iso-8859-1'?>\n",
              "<svg version='1.1' baseProfile='full'\n",
              "              xmlns='http://www.w3.org/2000/svg'\n",
              "                      xmlns:rdkit='http://www.rdkit.org/xml'\n",
              "                      xmlns:xlink='http://www.w3.org/1999/xlink'\n",
              "                  xml:space='preserve'\n",
              "width='450px' height='150px' viewBox='0 0 450 150'>\n",
              "<!-- END OF HEADER -->\n",
              "<rect style='opacity:1.0;fill:#FFFFFF;stroke:none' width='450.0' height='150.0' x='0.0' y='0.0'> </rect>\n",
              "<path class='bond-0 atom-0 atom-1' d='M 380.9,82.2 L 359.1,115.6' style='fill:none;fill-rule:evenodd;stroke:#000000;stroke-width:2.0px;stroke-linecap:butt;stroke-linejoin:miter;stroke-opacity:1' />\n",
              "<path class='bond-0 atom-0 atom-1' d='M 370.9,82.8 L 355.7,106.2' style='fill:none;fill-rule:evenodd;stroke:#000000;stroke-width:2.0px;stroke-linecap:butt;stroke-linejoin:miter;stroke-opacity:1' />\n",
              "<path class='bond-1 atom-1 atom-2' d='M 359.1,115.6 L 319.3,113.4' style='fill:none;fill-rule:evenodd;stroke:#000000;stroke-width:2.0px;stroke-linecap:butt;stroke-linejoin:miter;stroke-opacity:1' />\n",
              "<path class='bond-2 atom-2 atom-3' d='M 319.3,113.4 L 312.1,99.1' style='fill:none;fill-rule:evenodd;stroke:#000000;stroke-width:2.0px;stroke-linecap:butt;stroke-linejoin:miter;stroke-opacity:1' />\n",
              "<path class='bond-2 atom-2 atom-3' d='M 312.1,99.1 L 304.8,84.8' style='fill:none;fill-rule:evenodd;stroke:#0000FF;stroke-width:2.0px;stroke-linecap:butt;stroke-linejoin:miter;stroke-opacity:1' />\n",
              "<path class='bond-2 atom-2 atom-3' d='M 324.2,105.5 L 319.2,95.5' style='fill:none;fill-rule:evenodd;stroke:#000000;stroke-width:2.0px;stroke-linecap:butt;stroke-linejoin:miter;stroke-opacity:1' />\n",
              "<path class='bond-2 atom-2 atom-3' d='M 319.2,95.5 L 314.1,85.5' style='fill:none;fill-rule:evenodd;stroke:#0000FF;stroke-width:2.0px;stroke-linecap:butt;stroke-linejoin:miter;stroke-opacity:1' />\n",
              "<path class='bond-3 atom-3 atom-4' d='M 305.9,70.8 L 314.5,57.6' style='fill:none;fill-rule:evenodd;stroke:#0000FF;stroke-width:2.0px;stroke-linecap:butt;stroke-linejoin:miter;stroke-opacity:1' />\n",
              "<path class='bond-3 atom-3 atom-4' d='M 314.5,57.6 L 323.1,44.5' style='fill:none;fill-rule:evenodd;stroke:#000000;stroke-width:2.0px;stroke-linecap:butt;stroke-linejoin:miter;stroke-opacity:1' />\n",
              "<path class='bond-4 atom-4 atom-5' d='M 323.1,44.5 L 362.9,46.6' style='fill:none;fill-rule:evenodd;stroke:#000000;stroke-width:2.0px;stroke-linecap:butt;stroke-linejoin:miter;stroke-opacity:1' />\n",
              "<path class='bond-4 atom-4 atom-5' d='M 328.6,52.8 L 356.5,54.3' style='fill:none;fill-rule:evenodd;stroke:#000000;stroke-width:2.0px;stroke-linecap:butt;stroke-linejoin:miter;stroke-opacity:1' />\n",
              "<path class='bond-5 atom-3 atom-6' d='M 295.7,78.7 L 283.5,80.6' style='fill:none;fill-rule:evenodd;stroke:#0000FF;stroke-width:2.0px;stroke-linecap:butt;stroke-linejoin:miter;stroke-opacity:1' />\n",
              "<path class='bond-5 atom-3 atom-6' d='M 283.5,80.6 L 271.4,82.5' style='fill:none;fill-rule:evenodd;stroke:#000000;stroke-width:2.0px;stroke-linecap:butt;stroke-linejoin:miter;stroke-opacity:1' />\n",
              "<path class='bond-6 atom-6 atom-7' d='M 264.4,80.2 L 271.7,68.9' style='fill:none;fill-rule:evenodd;stroke:#000000;stroke-width:2.0px;stroke-linecap:butt;stroke-linejoin:miter;stroke-opacity:1' />\n",
              "<path class='bond-6 atom-6 atom-7' d='M 271.7,68.9 L 279.1,57.6' style='fill:none;fill-rule:evenodd;stroke:#7F4C19;stroke-width:2.0px;stroke-linecap:butt;stroke-linejoin:miter;stroke-opacity:1' />\n",
              "<path class='bond-7 atom-6 atom-8' d='M 252.4,79.2 L 241.9,73.8' style='fill:none;fill-rule:evenodd;stroke:#000000;stroke-width:2.0px;stroke-linecap:butt;stroke-linejoin:miter;stroke-opacity:1' />\n",
              "<path class='bond-7 atom-6 atom-8' d='M 241.9,73.8 L 231.3,68.4' style='fill:none;fill-rule:evenodd;stroke:#CCCC00;stroke-width:2.0px;stroke-linecap:butt;stroke-linejoin:miter;stroke-opacity:1' />\n",
              "<path class='bond-8 atom-8 atom-9' d='M 221.5,70.7 L 209.8,82.4' style='fill:none;fill-rule:evenodd;stroke:#CCCC00;stroke-width:2.0px;stroke-linecap:butt;stroke-linejoin:miter;stroke-opacity:1' />\n",
              "<path class='bond-8 atom-8 atom-9' d='M 209.8,82.4 L 198.1,94.0' style='fill:none;fill-rule:evenodd;stroke:#000000;stroke-width:2.0px;stroke-linecap:butt;stroke-linejoin:miter;stroke-opacity:1' />\n",
              "<path class='bond-8 atom-8 atom-9' d='M 223.6,79.9 L 215.4,88.0' style='fill:none;fill-rule:evenodd;stroke:#CCCC00;stroke-width:2.0px;stroke-linecap:butt;stroke-linejoin:miter;stroke-opacity:1' />\n",
              "<path class='bond-8 atom-8 atom-9' d='M 215.4,88.0 L 207.3,96.1' style='fill:none;fill-rule:evenodd;stroke:#000000;stroke-width:2.0px;stroke-linecap:butt;stroke-linejoin:miter;stroke-opacity:1' />\n",
              "<path class='bond-9 atom-9 atom-10' d='M 198.1,94.0 L 205.4,108.3' style='fill:none;fill-rule:evenodd;stroke:#000000;stroke-width:2.0px;stroke-linecap:butt;stroke-linejoin:miter;stroke-opacity:1' />\n",
              "<path class='bond-9 atom-9 atom-10' d='M 205.4,108.3 L 212.6,122.6' style='fill:none;fill-rule:evenodd;stroke:#0000FF;stroke-width:2.0px;stroke-linecap:butt;stroke-linejoin:miter;stroke-opacity:1' />\n",
              "<path class='bond-10 atom-10 atom-11' d='M 227.0,127.8 L 250.0,124.2' style='fill:none;fill-rule:evenodd;stroke:#0000FF;stroke-width:2.0px;stroke-linecap:butt;stroke-linejoin:miter;stroke-opacity:1' />\n",
              "<path class='bond-11 atom-11 atom-12' d='M 261.2,126.2 L 276.1,133.9' style='fill:none;fill-rule:evenodd;stroke:#0000FF;stroke-width:2.0px;stroke-linecap:butt;stroke-linejoin:miter;stroke-opacity:1' />\n",
              "<path class='bond-11 atom-11 atom-12' d='M 276.1,133.9 L 291.0,141.5' style='fill:none;fill-rule:evenodd;stroke:#000000;stroke-width:2.0px;stroke-linecap:butt;stroke-linejoin:miter;stroke-opacity:1' />\n",
              "<path class='bond-11 atom-11 atom-12' d='M 269.3,121.4 L 279.7,126.8' style='fill:none;fill-rule:evenodd;stroke:#0000FF;stroke-width:2.0px;stroke-linecap:butt;stroke-linejoin:miter;stroke-opacity:1' />\n",
              "<path class='bond-11 atom-11 atom-12' d='M 279.7,126.8 L 290.2,132.2' style='fill:none;fill-rule:evenodd;stroke:#000000;stroke-width:2.0px;stroke-linecap:butt;stroke-linejoin:miter;stroke-opacity:1' />\n",
              "<path class='bond-12 atom-9 atom-13' d='M 198.1,94.0 L 181.3,91.3' style='fill:none;fill-rule:evenodd;stroke:#000000;stroke-width:2.0px;stroke-linecap:butt;stroke-linejoin:miter;stroke-opacity:1' />\n",
              "<path class='bond-12 atom-9 atom-13' d='M 181.3,91.3 L 164.4,88.5' style='fill:none;fill-rule:evenodd;stroke:#0000FF;stroke-width:2.0px;stroke-linecap:butt;stroke-linejoin:miter;stroke-opacity:1' />\n",
              "<path class='bond-13 atom-13 atom-14' d='M 156.1,80.7 L 150.4,65.5' style='fill:none;fill-rule:evenodd;stroke:#0000FF;stroke-width:2.0px;stroke-linecap:butt;stroke-linejoin:miter;stroke-opacity:1' />\n",
              "<path class='bond-13 atom-13 atom-14' d='M 150.4,65.5 L 144.6,50.4' style='fill:none;fill-rule:evenodd;stroke:#000000;stroke-width:2.0px;stroke-linecap:butt;stroke-linejoin:miter;stroke-opacity:1' />\n",
              "<path class='bond-14 atom-14 atom-15' d='M 144.6,50.4 L 105.2,44.1' style='fill:none;fill-rule:evenodd;stroke:#000000;stroke-width:2.0px;stroke-linecap:butt;stroke-linejoin:miter;stroke-opacity:1' />\n",
              "<path class='bond-15 atom-15 atom-16' d='M 105.2,44.1 L 91.0,6.8' style='fill:none;fill-rule:evenodd;stroke:#000000;stroke-width:2.0px;stroke-linecap:butt;stroke-linejoin:miter;stroke-opacity:1' />\n",
              "<path class='bond-16 atom-13 atom-17' d='M 153.2,94.5 L 143.4,106.5' style='fill:none;fill-rule:evenodd;stroke:#0000FF;stroke-width:2.0px;stroke-linecap:butt;stroke-linejoin:miter;stroke-opacity:1' />\n",
              "<path class='bond-16 atom-13 atom-17' d='M 143.4,106.5 L 133.6,118.6' style='fill:none;fill-rule:evenodd;stroke:#000000;stroke-width:2.0px;stroke-linecap:butt;stroke-linejoin:miter;stroke-opacity:1' />\n",
              "<path class='bond-17 atom-17 atom-18' d='M 133.6,118.6 L 94.3,112.3' style='fill:none;fill-rule:evenodd;stroke:#000000;stroke-width:2.0px;stroke-linecap:butt;stroke-linejoin:miter;stroke-opacity:1' />\n",
              "<path class='bond-18 atom-18 atom-19' d='M 94.3,112.3 L 69.1,143.2' style='fill:none;fill-rule:evenodd;stroke:#000000;stroke-width:2.0px;stroke-linecap:butt;stroke-linejoin:miter;stroke-opacity:1' />\n",
              "<path class='bond-19 atom-6 atom-20' d='M 260.0,77.0 L 256.8,64.7' style='fill:none;fill-rule:evenodd;stroke:#000000;stroke-width:2.0px;stroke-linecap:butt;stroke-linejoin:miter;stroke-opacity:1' />\n",
              "<path class='bond-19 atom-6 atom-20' d='M 256.8,64.7 L 253.5,52.4' style='fill:none;fill-rule:evenodd;stroke:#7F4C19;stroke-width:2.0px;stroke-linecap:butt;stroke-linejoin:miter;stroke-opacity:1' />\n",
              "<path class='bond-20 atom-5 atom-0' d='M 362.9,46.6 L 380.9,82.2' style='fill:none;fill-rule:evenodd;stroke:#000000;stroke-width:2.0px;stroke-linecap:butt;stroke-linejoin:miter;stroke-opacity:1' />\n",
              "<path class='bond-21 atom-11 atom-6' d='M 256.7,116.4 L 258.7,103.8' style='fill:none;fill-rule:evenodd;stroke:#0000FF;stroke-width:2.0px;stroke-linecap:butt;stroke-linejoin:miter;stroke-opacity:1' />\n",
              "<path class='bond-21 atom-11 atom-6' d='M 258.7,103.8 L 260.7,91.2' style='fill:none;fill-rule:evenodd;stroke:#000000;stroke-width:2.0px;stroke-linecap:butt;stroke-linejoin:miter;stroke-opacity:1' />\n",
              "<path class='bond-22 atom-12 atom-2' d='M 291.0,141.5 L 319.3,113.4' style='fill:none;fill-rule:evenodd;stroke:#000000;stroke-width:2.0px;stroke-linecap:butt;stroke-linejoin:miter;stroke-opacity:1' />\n",
              "<path class='atom-3' d='M 298.8 72.2\n",
              "L 302.5 78.2\n",
              "Q 302.8 78.8, 303.4 79.8\n",
              "Q 304.0 80.9, 304.1 81.0\n",
              "L 304.1 72.2\n",
              "L 305.6 72.2\n",
              "L 305.6 83.5\n",
              "L 304.0 83.5\n",
              "L 300.0 77.0\n",
              "Q 299.6 76.2, 299.1 75.3\n",
              "Q 298.6 74.4, 298.5 74.2\n",
              "L 298.5 83.5\n",
              "L 297.0 83.5\n",
              "L 297.0 72.2\n",
              "L 298.8 72.2\n",
              "' fill='#0000FF'/>\n",
              "<path class='atom-3' d='M 306.9 74.2\n",
              "L 308.9 74.2\n",
              "L 308.9 72.1\n",
              "L 309.8 72.1\n",
              "L 309.8 74.2\n",
              "L 311.8 74.2\n",
              "L 311.8 75.0\n",
              "L 309.8 75.0\n",
              "L 309.8 77.1\n",
              "L 308.9 77.1\n",
              "L 308.9 75.0\n",
              "L 306.9 75.0\n",
              "L 306.9 74.2\n",
              "' fill='#0000FF'/>\n",
              "<path class='atom-6' d='M 253.7 84.1\n",
              "Q 253.7 81.2, 255.0 79.8\n",
              "Q 256.4 78.3, 258.9 78.3\n",
              "Q 261.2 78.3, 262.4 79.9\n",
              "L 261.4 80.8\n",
              "Q 260.5 79.6, 258.9 79.6\n",
              "Q 257.2 79.6, 256.2 80.8\n",
              "Q 255.4 81.9, 255.4 84.1\n",
              "Q 255.4 86.3, 256.3 87.4\n",
              "Q 257.2 88.6, 259.0 88.6\n",
              "Q 260.3 88.6, 261.7 87.8\n",
              "L 262.2 89.0\n",
              "Q 261.6 89.4, 260.7 89.6\n",
              "Q 259.8 89.9, 258.8 89.9\n",
              "Q 256.4 89.9, 255.0 88.4\n",
              "Q 253.7 86.9, 253.7 84.1\n",
              "' fill='#000000'/>\n",
              "<path class='atom-6' d='M 270.0 81.5\n",
              "L 270.0 89.7\n",
              "L 268.8 89.7\n",
              "L 268.6 88.6\n",
              "Q 267.6 89.9, 265.9 89.9\n",
              "Q 264.5 89.9, 263.8 89.1\n",
              "Q 263.1 88.4, 263.1 86.9\n",
              "L 263.1 81.5\n",
              "L 264.6 81.5\n",
              "L 264.6 86.8\n",
              "Q 264.6 87.8, 264.9 88.2\n",
              "Q 265.3 88.7, 266.2 88.7\n",
              "Q 266.9 88.7, 267.5 88.3\n",
              "Q 268.1 88.0, 268.5 87.4\n",
              "L 268.5 81.5\n",
              "L 270.0 81.5\n",
              "' fill='#000000'/>\n",
              "<path class='atom-7' d='M 285.3 50.3\n",
              "Q 286.4 50.6, 286.9 51.3\n",
              "Q 287.5 52.0, 287.5 52.9\n",
              "Q 287.5 54.5, 286.5 55.4\n",
              "Q 285.5 56.3, 283.6 56.3\n",
              "L 279.8 56.3\n",
              "L 279.8 45.0\n",
              "L 283.2 45.0\n",
              "Q 285.1 45.0, 286.1 45.8\n",
              "Q 287.0 46.5, 287.0 48.0\n",
              "Q 287.0 49.7, 285.3 50.3\n",
              "M 281.3 46.2\n",
              "L 281.3 49.8\n",
              "L 283.2 49.8\n",
              "Q 284.3 49.8, 284.9 49.3\n",
              "Q 285.4 48.9, 285.4 48.0\n",
              "Q 285.4 46.2, 283.2 46.2\n",
              "L 281.3 46.2\n",
              "M 283.6 55.0\n",
              "Q 284.7 55.0, 285.3 54.5\n",
              "Q 285.9 53.9, 285.9 52.9\n",
              "Q 285.9 52.0, 285.3 51.5\n",
              "Q 284.6 51.1, 283.4 51.1\n",
              "L 281.3 51.1\n",
              "L 281.3 55.0\n",
              "L 283.6 55.0\n",
              "' fill='#7F4C19'/>\n",
              "<path class='atom-7' d='M 289.5 48.1\n",
              "L 289.6 49.2\n",
              "Q 290.5 47.9, 291.9 47.9\n",
              "Q 292.3 47.9, 292.9 48.1\n",
              "L 292.7 49.4\n",
              "Q 292.0 49.3, 291.6 49.3\n",
              "Q 291.0 49.3, 290.5 49.5\n",
              "Q 290.1 49.8, 289.7 50.4\n",
              "L 289.7 56.3\n",
              "L 288.2 56.3\n",
              "L 288.2 48.1\n",
              "L 289.5 48.1\n",
              "' fill='#7F4C19'/>\n",
              "<path class='atom-8' d='M 223.2 69.7\n",
              "Q 223.3 69.8, 223.9 70.0\n",
              "Q 224.4 70.2, 225.0 70.3\n",
              "Q 225.6 70.5, 226.1 70.5\n",
              "Q 227.2 70.5, 227.8 70.0\n",
              "Q 228.4 69.4, 228.4 68.5\n",
              "Q 228.4 67.9, 228.1 67.5\n",
              "Q 227.8 67.1, 227.3 66.9\n",
              "Q 226.9 66.7, 226.1 66.5\n",
              "Q 225.1 66.2, 224.5 65.9\n",
              "Q 223.9 65.6, 223.4 65.0\n",
              "Q 223.0 64.4, 223.0 63.4\n",
              "Q 223.0 62.0, 224.0 61.1\n",
              "Q 224.9 60.2, 226.9 60.2\n",
              "Q 228.2 60.2, 229.7 60.8\n",
              "L 229.3 62.1\n",
              "Q 227.9 61.5, 226.9 61.5\n",
              "Q 225.8 61.5, 225.2 62.0\n",
              "Q 224.6 62.4, 224.6 63.2\n",
              "Q 224.6 63.8, 224.9 64.2\n",
              "Q 225.2 64.5, 225.7 64.7\n",
              "Q 226.1 64.9, 226.9 65.2\n",
              "Q 227.9 65.5, 228.5 65.8\n",
              "Q 229.1 66.1, 229.6 66.8\n",
              "Q 230.0 67.4, 230.0 68.5\n",
              "Q 230.0 70.1, 229.0 70.9\n",
              "Q 227.9 71.8, 226.2 71.8\n",
              "Q 225.2 71.8, 224.4 71.5\n",
              "Q 223.7 71.3, 222.8 71.0\n",
              "L 223.2 69.7\n",
              "' fill='#CCCC00'/>\n",
              "<path class='atom-8' d='M 230.8 62.1\n",
              "L 232.8 62.1\n",
              "L 232.8 60.0\n",
              "L 233.6 60.0\n",
              "L 233.6 62.1\n",
              "L 235.7 62.1\n",
              "L 235.7 62.8\n",
              "L 233.6 62.8\n",
              "L 233.6 64.9\n",
              "L 232.8 64.9\n",
              "L 232.8 62.8\n",
              "L 230.8 62.8\n",
              "L 230.8 62.1\n",
              "' fill='#CCCC00'/>\n",
              "<path class='atom-10' d='M 213.7 123.9\n",
              "L 217.4 129.9\n",
              "Q 217.7 130.5, 218.3 131.5\n",
              "Q 218.9 132.6, 219.0 132.7\n",
              "L 219.0 123.9\n",
              "L 220.5 123.9\n",
              "L 220.5 135.2\n",
              "L 218.9 135.2\n",
              "L 214.9 128.6\n",
              "Q 214.5 127.9, 214.0 127.0\n",
              "Q 213.5 126.1, 213.4 125.8\n",
              "L 213.4 135.2\n",
              "L 211.9 135.2\n",
              "L 211.9 123.9\n",
              "L 213.7 123.9\n",
              "' fill='#0000FF'/>\n",
              "<path class='atom-10' d='M 221.8 125.7\n",
              "L 225.6 125.7\n",
              "L 225.6 126.6\n",
              "L 221.8 126.6\n",
              "L 221.8 125.7\n",
              "' fill='#0000FF'/>\n",
              "<path class='atom-11' d='M 253.1 117.7\n",
              "L 256.8 123.7\n",
              "Q 257.1 124.3, 257.7 125.4\n",
              "Q 258.3 126.4, 258.3 126.5\n",
              "L 258.3 117.7\n",
              "L 259.8 117.7\n",
              "L 259.8 129.0\n",
              "L 258.3 129.0\n",
              "L 254.3 122.5\n",
              "Q 253.9 121.7, 253.4 120.8\n",
              "Q 252.9 120.0, 252.7 119.7\n",
              "L 252.7 129.0\n",
              "L 251.3 129.0\n",
              "L 251.3 117.7\n",
              "L 253.1 117.7\n",
              "' fill='#0000FF'/>\n",
              "<path class='atom-11' d='M 261.2 119.8\n",
              "L 263.2 119.8\n",
              "L 263.2 117.7\n",
              "L 264.0 117.7\n",
              "L 264.0 119.8\n",
              "L 266.1 119.8\n",
              "L 266.1 120.5\n",
              "L 264.0 120.5\n",
              "L 264.0 122.6\n",
              "L 263.2 122.6\n",
              "L 263.2 120.5\n",
              "L 261.2 120.5\n",
              "L 261.2 119.8\n",
              "' fill='#0000FF'/>\n",
              "<path class='atom-13' d='M 156.3 82.0\n",
              "L 160.0 88.0\n",
              "Q 160.4 88.6, 160.9 89.6\n",
              "Q 161.5 90.7, 161.6 90.8\n",
              "L 161.6 82.0\n",
              "L 163.1 82.0\n",
              "L 163.1 93.3\n",
              "L 161.5 93.3\n",
              "L 157.5 86.7\n",
              "Q 157.1 86.0, 156.6 85.1\n",
              "Q 156.1 84.2, 156.0 84.0\n",
              "L 156.0 93.3\n",
              "L 154.5 93.3\n",
              "L 154.5 82.0\n",
              "L 156.3 82.0\n",
              "' fill='#0000FF'/>\n",
              "<path class='atom-20' d='M 253.3 45.2\n",
              "Q 254.4 45.5, 254.9 46.2\n",
              "Q 255.5 46.8, 255.5 47.8\n",
              "Q 255.5 49.4, 254.5 50.2\n",
              "Q 253.5 51.1, 251.6 51.1\n",
              "L 247.8 51.1\n",
              "L 247.8 39.8\n",
              "L 251.1 39.8\n",
              "Q 253.1 39.8, 254.0 40.6\n",
              "Q 255.0 41.4, 255.0 42.8\n",
              "Q 255.0 44.5, 253.3 45.2\n",
              "M 249.3 41.1\n",
              "L 249.3 44.6\n",
              "L 251.1 44.6\n",
              "Q 252.3 44.6, 252.8 44.2\n",
              "Q 253.4 43.7, 253.4 42.8\n",
              "Q 253.4 41.1, 251.1 41.1\n",
              "L 249.3 41.1\n",
              "M 251.6 49.8\n",
              "Q 252.7 49.8, 253.3 49.3\n",
              "Q 253.9 48.8, 253.9 47.8\n",
              "Q 253.9 46.9, 253.2 46.4\n",
              "Q 252.6 45.9, 251.4 45.9\n",
              "L 249.3 45.9\n",
              "L 249.3 49.8\n",
              "L 251.6 49.8\n",
              "' fill='#7F4C19'/>\n",
              "<path class='atom-20' d='M 257.4 42.9\n",
              "L 257.6 44.1\n",
              "Q 258.5 42.8, 259.9 42.8\n",
              "Q 260.3 42.8, 260.9 42.9\n",
              "L 260.7 44.3\n",
              "Q 260.0 44.1, 259.6 44.1\n",
              "Q 258.9 44.1, 258.5 44.4\n",
              "Q 258.1 44.6, 257.7 45.3\n",
              "L 257.7 51.1\n",
              "L 256.2 51.1\n",
              "L 256.2 42.9\n",
              "L 257.4 42.9\n",
              "' fill='#7F4C19'/>\n",
              "<path class='atom-6' d='M 262.7,91.1 L 262.7,91.1 L 262.7,91.2 L 262.7,91.3 L 262.6,91.3 L 262.6,91.4 L 262.6,91.5 L 262.5,91.5 L 262.5,91.6 L 262.5,91.6 L 262.4,91.7 L 262.3,91.7 L 262.3,91.7 L 262.2,91.8 L 262.2,91.8 L 262.1,91.8 L 262.0,91.8 L 262.0,91.8 L 261.9,91.9 L 261.8,91.9 L 261.8,91.8 L 261.7,91.8 L 261.6,91.8 L 261.6,91.8 L 261.5,91.8 L 261.4,91.7 L 261.4,91.7 L 261.3,91.6 L 261.3,91.6 L 261.2,91.5 L 261.2,91.5 L 261.2,91.4 L 261.1,91.4 L 261.1,91.3 L 261.1,91.2 L 261.1,91.2 L 261.1,91.1 L 261.1,91.0 L 261.1,91.0 L 261.1,90.9 L 261.1,90.8 L 261.1,90.8 L 261.2,90.7 L 261.2,90.6 L 261.2,90.6 L 261.3,90.5 L 261.3,90.5 L 261.4,90.4 L 261.4,90.4 L 261.5,90.4 L 261.6,90.3 L 261.6,90.3 L 261.7,90.3 L 261.8,90.3 L 261.8,90.3 L 261.9,90.3 L 262.0,90.3 L 262.0,90.3 L 262.1,90.3 L 262.2,90.3 L 262.2,90.3 L 262.3,90.4 L 262.3,90.4 L 262.4,90.5 L 262.5,90.5 L 262.5,90.5 L 262.5,90.6 L 262.6,90.7 L 262.6,90.7 L 262.6,90.8 L 262.7,90.9 L 262.7,90.9 L 262.7,91.0 L 262.7,91.1 L 261.9,91.1 Z' style='fill:#000000;fill-rule:evenodd;fill-opacity:1;stroke:#000000;stroke-width:0.0px;stroke-linecap:butt;stroke-linejoin:miter;stroke-opacity:1;' />\n",
              "</svg>\n"
            ],
            "image/svg+xml": "<?xml version='1.0' encoding='iso-8859-1'?>\n<svg version='1.1' baseProfile='full'\n              xmlns='http://www.w3.org/2000/svg'\n                      xmlns:rdkit='http://www.rdkit.org/xml'\n                      xmlns:xlink='http://www.w3.org/1999/xlink'\n                  xml:space='preserve'\nwidth='450px' height='150px' viewBox='0 0 450 150'>\n<!-- END OF HEADER -->\n<rect style='opacity:1.0;fill:#FFFFFF;stroke:none' width='450.0' height='150.0' x='0.0' y='0.0'> </rect>\n<path class='bond-0 atom-0 atom-1' d='M 380.9,82.2 L 359.1,115.6' style='fill:none;fill-rule:evenodd;stroke:#000000;stroke-width:2.0px;stroke-linecap:butt;stroke-linejoin:miter;stroke-opacity:1' />\n<path class='bond-0 atom-0 atom-1' d='M 370.9,82.8 L 355.7,106.2' style='fill:none;fill-rule:evenodd;stroke:#000000;stroke-width:2.0px;stroke-linecap:butt;stroke-linejoin:miter;stroke-opacity:1' />\n<path class='bond-1 atom-1 atom-2' d='M 359.1,115.6 L 319.3,113.4' style='fill:none;fill-rule:evenodd;stroke:#000000;stroke-width:2.0px;stroke-linecap:butt;stroke-linejoin:miter;stroke-opacity:1' />\n<path class='bond-2 atom-2 atom-3' d='M 319.3,113.4 L 312.1,99.1' style='fill:none;fill-rule:evenodd;stroke:#000000;stroke-width:2.0px;stroke-linecap:butt;stroke-linejoin:miter;stroke-opacity:1' />\n<path class='bond-2 atom-2 atom-3' d='M 312.1,99.1 L 304.8,84.8' style='fill:none;fill-rule:evenodd;stroke:#0000FF;stroke-width:2.0px;stroke-linecap:butt;stroke-linejoin:miter;stroke-opacity:1' />\n<path class='bond-2 atom-2 atom-3' d='M 324.2,105.5 L 319.2,95.5' style='fill:none;fill-rule:evenodd;stroke:#000000;stroke-width:2.0px;stroke-linecap:butt;stroke-linejoin:miter;stroke-opacity:1' />\n<path class='bond-2 atom-2 atom-3' d='M 319.2,95.5 L 314.1,85.5' style='fill:none;fill-rule:evenodd;stroke:#0000FF;stroke-width:2.0px;stroke-linecap:butt;stroke-linejoin:miter;stroke-opacity:1' />\n<path class='bond-3 atom-3 atom-4' d='M 305.9,70.8 L 314.5,57.6' style='fill:none;fill-rule:evenodd;stroke:#0000FF;stroke-width:2.0px;stroke-linecap:butt;stroke-linejoin:miter;stroke-opacity:1' />\n<path class='bond-3 atom-3 atom-4' d='M 314.5,57.6 L 323.1,44.5' style='fill:none;fill-rule:evenodd;stroke:#000000;stroke-width:2.0px;stroke-linecap:butt;stroke-linejoin:miter;stroke-opacity:1' />\n<path class='bond-4 atom-4 atom-5' d='M 323.1,44.5 L 362.9,46.6' style='fill:none;fill-rule:evenodd;stroke:#000000;stroke-width:2.0px;stroke-linecap:butt;stroke-linejoin:miter;stroke-opacity:1' />\n<path class='bond-4 atom-4 atom-5' d='M 328.6,52.8 L 356.5,54.3' style='fill:none;fill-rule:evenodd;stroke:#000000;stroke-width:2.0px;stroke-linecap:butt;stroke-linejoin:miter;stroke-opacity:1' />\n<path class='bond-5 atom-3 atom-6' d='M 295.7,78.7 L 283.5,80.6' style='fill:none;fill-rule:evenodd;stroke:#0000FF;stroke-width:2.0px;stroke-linecap:butt;stroke-linejoin:miter;stroke-opacity:1' />\n<path class='bond-5 atom-3 atom-6' d='M 283.5,80.6 L 271.4,82.5' style='fill:none;fill-rule:evenodd;stroke:#000000;stroke-width:2.0px;stroke-linecap:butt;stroke-linejoin:miter;stroke-opacity:1' />\n<path class='bond-6 atom-6 atom-7' d='M 264.4,80.2 L 271.7,68.9' style='fill:none;fill-rule:evenodd;stroke:#000000;stroke-width:2.0px;stroke-linecap:butt;stroke-linejoin:miter;stroke-opacity:1' />\n<path class='bond-6 atom-6 atom-7' d='M 271.7,68.9 L 279.1,57.6' style='fill:none;fill-rule:evenodd;stroke:#7F4C19;stroke-width:2.0px;stroke-linecap:butt;stroke-linejoin:miter;stroke-opacity:1' />\n<path class='bond-7 atom-6 atom-8' d='M 252.4,79.2 L 241.9,73.8' style='fill:none;fill-rule:evenodd;stroke:#000000;stroke-width:2.0px;stroke-linecap:butt;stroke-linejoin:miter;stroke-opacity:1' />\n<path class='bond-7 atom-6 atom-8' d='M 241.9,73.8 L 231.3,68.4' style='fill:none;fill-rule:evenodd;stroke:#CCCC00;stroke-width:2.0px;stroke-linecap:butt;stroke-linejoin:miter;stroke-opacity:1' />\n<path class='bond-8 atom-8 atom-9' d='M 221.5,70.7 L 209.8,82.4' style='fill:none;fill-rule:evenodd;stroke:#CCCC00;stroke-width:2.0px;stroke-linecap:butt;stroke-linejoin:miter;stroke-opacity:1' />\n<path class='bond-8 atom-8 atom-9' d='M 209.8,82.4 L 198.1,94.0' style='fill:none;fill-rule:evenodd;stroke:#000000;stroke-width:2.0px;stroke-linecap:butt;stroke-linejoin:miter;stroke-opacity:1' />\n<path class='bond-8 atom-8 atom-9' d='M 223.6,79.9 L 215.4,88.0' style='fill:none;fill-rule:evenodd;stroke:#CCCC00;stroke-width:2.0px;stroke-linecap:butt;stroke-linejoin:miter;stroke-opacity:1' />\n<path class='bond-8 atom-8 atom-9' d='M 215.4,88.0 L 207.3,96.1' style='fill:none;fill-rule:evenodd;stroke:#000000;stroke-width:2.0px;stroke-linecap:butt;stroke-linejoin:miter;stroke-opacity:1' />\n<path class='bond-9 atom-9 atom-10' d='M 198.1,94.0 L 205.4,108.3' style='fill:none;fill-rule:evenodd;stroke:#000000;stroke-width:2.0px;stroke-linecap:butt;stroke-linejoin:miter;stroke-opacity:1' />\n<path class='bond-9 atom-9 atom-10' d='M 205.4,108.3 L 212.6,122.6' style='fill:none;fill-rule:evenodd;stroke:#0000FF;stroke-width:2.0px;stroke-linecap:butt;stroke-linejoin:miter;stroke-opacity:1' />\n<path class='bond-10 atom-10 atom-11' d='M 227.0,127.8 L 250.0,124.2' style='fill:none;fill-rule:evenodd;stroke:#0000FF;stroke-width:2.0px;stroke-linecap:butt;stroke-linejoin:miter;stroke-opacity:1' />\n<path class='bond-11 atom-11 atom-12' d='M 261.2,126.2 L 276.1,133.9' style='fill:none;fill-rule:evenodd;stroke:#0000FF;stroke-width:2.0px;stroke-linecap:butt;stroke-linejoin:miter;stroke-opacity:1' />\n<path class='bond-11 atom-11 atom-12' d='M 276.1,133.9 L 291.0,141.5' style='fill:none;fill-rule:evenodd;stroke:#000000;stroke-width:2.0px;stroke-linecap:butt;stroke-linejoin:miter;stroke-opacity:1' />\n<path class='bond-11 atom-11 atom-12' d='M 269.3,121.4 L 279.7,126.8' style='fill:none;fill-rule:evenodd;stroke:#0000FF;stroke-width:2.0px;stroke-linecap:butt;stroke-linejoin:miter;stroke-opacity:1' />\n<path class='bond-11 atom-11 atom-12' d='M 279.7,126.8 L 290.2,132.2' style='fill:none;fill-rule:evenodd;stroke:#000000;stroke-width:2.0px;stroke-linecap:butt;stroke-linejoin:miter;stroke-opacity:1' />\n<path class='bond-12 atom-9 atom-13' d='M 198.1,94.0 L 181.3,91.3' style='fill:none;fill-rule:evenodd;stroke:#000000;stroke-width:2.0px;stroke-linecap:butt;stroke-linejoin:miter;stroke-opacity:1' />\n<path class='bond-12 atom-9 atom-13' d='M 181.3,91.3 L 164.4,88.5' style='fill:none;fill-rule:evenodd;stroke:#0000FF;stroke-width:2.0px;stroke-linecap:butt;stroke-linejoin:miter;stroke-opacity:1' />\n<path class='bond-13 atom-13 atom-14' d='M 156.1,80.7 L 150.4,65.5' style='fill:none;fill-rule:evenodd;stroke:#0000FF;stroke-width:2.0px;stroke-linecap:butt;stroke-linejoin:miter;stroke-opacity:1' />\n<path class='bond-13 atom-13 atom-14' d='M 150.4,65.5 L 144.6,50.4' style='fill:none;fill-rule:evenodd;stroke:#000000;stroke-width:2.0px;stroke-linecap:butt;stroke-linejoin:miter;stroke-opacity:1' />\n<path class='bond-14 atom-14 atom-15' d='M 144.6,50.4 L 105.2,44.1' style='fill:none;fill-rule:evenodd;stroke:#000000;stroke-width:2.0px;stroke-linecap:butt;stroke-linejoin:miter;stroke-opacity:1' />\n<path class='bond-15 atom-15 atom-16' d='M 105.2,44.1 L 91.0,6.8' style='fill:none;fill-rule:evenodd;stroke:#000000;stroke-width:2.0px;stroke-linecap:butt;stroke-linejoin:miter;stroke-opacity:1' />\n<path class='bond-16 atom-13 atom-17' d='M 153.2,94.5 L 143.4,106.5' style='fill:none;fill-rule:evenodd;stroke:#0000FF;stroke-width:2.0px;stroke-linecap:butt;stroke-linejoin:miter;stroke-opacity:1' />\n<path class='bond-16 atom-13 atom-17' d='M 143.4,106.5 L 133.6,118.6' style='fill:none;fill-rule:evenodd;stroke:#000000;stroke-width:2.0px;stroke-linecap:butt;stroke-linejoin:miter;stroke-opacity:1' />\n<path class='bond-17 atom-17 atom-18' d='M 133.6,118.6 L 94.3,112.3' style='fill:none;fill-rule:evenodd;stroke:#000000;stroke-width:2.0px;stroke-linecap:butt;stroke-linejoin:miter;stroke-opacity:1' />\n<path class='bond-18 atom-18 atom-19' d='M 94.3,112.3 L 69.1,143.2' style='fill:none;fill-rule:evenodd;stroke:#000000;stroke-width:2.0px;stroke-linecap:butt;stroke-linejoin:miter;stroke-opacity:1' />\n<path class='bond-19 atom-6 atom-20' d='M 260.0,77.0 L 256.8,64.7' style='fill:none;fill-rule:evenodd;stroke:#000000;stroke-width:2.0px;stroke-linecap:butt;stroke-linejoin:miter;stroke-opacity:1' />\n<path class='bond-19 atom-6 atom-20' d='M 256.8,64.7 L 253.5,52.4' style='fill:none;fill-rule:evenodd;stroke:#7F4C19;stroke-width:2.0px;stroke-linecap:butt;stroke-linejoin:miter;stroke-opacity:1' />\n<path class='bond-20 atom-5 atom-0' d='M 362.9,46.6 L 380.9,82.2' style='fill:none;fill-rule:evenodd;stroke:#000000;stroke-width:2.0px;stroke-linecap:butt;stroke-linejoin:miter;stroke-opacity:1' />\n<path class='bond-21 atom-11 atom-6' d='M 256.7,116.4 L 258.7,103.8' style='fill:none;fill-rule:evenodd;stroke:#0000FF;stroke-width:2.0px;stroke-linecap:butt;stroke-linejoin:miter;stroke-opacity:1' />\n<path class='bond-21 atom-11 atom-6' d='M 258.7,103.8 L 260.7,91.2' style='fill:none;fill-rule:evenodd;stroke:#000000;stroke-width:2.0px;stroke-linecap:butt;stroke-linejoin:miter;stroke-opacity:1' />\n<path class='bond-22 atom-12 atom-2' d='M 291.0,141.5 L 319.3,113.4' style='fill:none;fill-rule:evenodd;stroke:#000000;stroke-width:2.0px;stroke-linecap:butt;stroke-linejoin:miter;stroke-opacity:1' />\n<path class='atom-3' d='M 298.8 72.2\nL 302.5 78.2\nQ 302.8 78.8, 303.4 79.8\nQ 304.0 80.9, 304.1 81.0\nL 304.1 72.2\nL 305.6 72.2\nL 305.6 83.5\nL 304.0 83.5\nL 300.0 77.0\nQ 299.6 76.2, 299.1 75.3\nQ 298.6 74.4, 298.5 74.2\nL 298.5 83.5\nL 297.0 83.5\nL 297.0 72.2\nL 298.8 72.2\n' fill='#0000FF'/>\n<path class='atom-3' d='M 306.9 74.2\nL 308.9 74.2\nL 308.9 72.1\nL 309.8 72.1\nL 309.8 74.2\nL 311.8 74.2\nL 311.8 75.0\nL 309.8 75.0\nL 309.8 77.1\nL 308.9 77.1\nL 308.9 75.0\nL 306.9 75.0\nL 306.9 74.2\n' fill='#0000FF'/>\n<path class='atom-6' d='M 253.7 84.1\nQ 253.7 81.2, 255.0 79.8\nQ 256.4 78.3, 258.9 78.3\nQ 261.2 78.3, 262.4 79.9\nL 261.4 80.8\nQ 260.5 79.6, 258.9 79.6\nQ 257.2 79.6, 256.2 80.8\nQ 255.4 81.9, 255.4 84.1\nQ 255.4 86.3, 256.3 87.4\nQ 257.2 88.6, 259.0 88.6\nQ 260.3 88.6, 261.7 87.8\nL 262.2 89.0\nQ 261.6 89.4, 260.7 89.6\nQ 259.8 89.9, 258.8 89.9\nQ 256.4 89.9, 255.0 88.4\nQ 253.7 86.9, 253.7 84.1\n' fill='#000000'/>\n<path class='atom-6' d='M 270.0 81.5\nL 270.0 89.7\nL 268.8 89.7\nL 268.6 88.6\nQ 267.6 89.9, 265.9 89.9\nQ 264.5 89.9, 263.8 89.1\nQ 263.1 88.4, 263.1 86.9\nL 263.1 81.5\nL 264.6 81.5\nL 264.6 86.8\nQ 264.6 87.8, 264.9 88.2\nQ 265.3 88.7, 266.2 88.7\nQ 266.9 88.7, 267.5 88.3\nQ 268.1 88.0, 268.5 87.4\nL 268.5 81.5\nL 270.0 81.5\n' fill='#000000'/>\n<path class='atom-7' d='M 285.3 50.3\nQ 286.4 50.6, 286.9 51.3\nQ 287.5 52.0, 287.5 52.9\nQ 287.5 54.5, 286.5 55.4\nQ 285.5 56.3, 283.6 56.3\nL 279.8 56.3\nL 279.8 45.0\nL 283.2 45.0\nQ 285.1 45.0, 286.1 45.8\nQ 287.0 46.5, 287.0 48.0\nQ 287.0 49.7, 285.3 50.3\nM 281.3 46.2\nL 281.3 49.8\nL 283.2 49.8\nQ 284.3 49.8, 284.9 49.3\nQ 285.4 48.9, 285.4 48.0\nQ 285.4 46.2, 283.2 46.2\nL 281.3 46.2\nM 283.6 55.0\nQ 284.7 55.0, 285.3 54.5\nQ 285.9 53.9, 285.9 52.9\nQ 285.9 52.0, 285.3 51.5\nQ 284.6 51.1, 283.4 51.1\nL 281.3 51.1\nL 281.3 55.0\nL 283.6 55.0\n' fill='#7F4C19'/>\n<path class='atom-7' d='M 289.5 48.1\nL 289.6 49.2\nQ 290.5 47.9, 291.9 47.9\nQ 292.3 47.9, 292.9 48.1\nL 292.7 49.4\nQ 292.0 49.3, 291.6 49.3\nQ 291.0 49.3, 290.5 49.5\nQ 290.1 49.8, 289.7 50.4\nL 289.7 56.3\nL 288.2 56.3\nL 288.2 48.1\nL 289.5 48.1\n' fill='#7F4C19'/>\n<path class='atom-8' d='M 223.2 69.7\nQ 223.3 69.8, 223.9 70.0\nQ 224.4 70.2, 225.0 70.3\nQ 225.6 70.5, 226.1 70.5\nQ 227.2 70.5, 227.8 70.0\nQ 228.4 69.4, 228.4 68.5\nQ 228.4 67.9, 228.1 67.5\nQ 227.8 67.1, 227.3 66.9\nQ 226.9 66.7, 226.1 66.5\nQ 225.1 66.2, 224.5 65.9\nQ 223.9 65.6, 223.4 65.0\nQ 223.0 64.4, 223.0 63.4\nQ 223.0 62.0, 224.0 61.1\nQ 224.9 60.2, 226.9 60.2\nQ 228.2 60.2, 229.7 60.8\nL 229.3 62.1\nQ 227.9 61.5, 226.9 61.5\nQ 225.8 61.5, 225.2 62.0\nQ 224.6 62.4, 224.6 63.2\nQ 224.6 63.8, 224.9 64.2\nQ 225.2 64.5, 225.7 64.7\nQ 226.1 64.9, 226.9 65.2\nQ 227.9 65.5, 228.5 65.8\nQ 229.1 66.1, 229.6 66.8\nQ 230.0 67.4, 230.0 68.5\nQ 230.0 70.1, 229.0 70.9\nQ 227.9 71.8, 226.2 71.8\nQ 225.2 71.8, 224.4 71.5\nQ 223.7 71.3, 222.8 71.0\nL 223.2 69.7\n' fill='#CCCC00'/>\n<path class='atom-8' d='M 230.8 62.1\nL 232.8 62.1\nL 232.8 60.0\nL 233.6 60.0\nL 233.6 62.1\nL 235.7 62.1\nL 235.7 62.8\nL 233.6 62.8\nL 233.6 64.9\nL 232.8 64.9\nL 232.8 62.8\nL 230.8 62.8\nL 230.8 62.1\n' fill='#CCCC00'/>\n<path class='atom-10' d='M 213.7 123.9\nL 217.4 129.9\nQ 217.7 130.5, 218.3 131.5\nQ 218.9 132.6, 219.0 132.7\nL 219.0 123.9\nL 220.5 123.9\nL 220.5 135.2\nL 218.9 135.2\nL 214.9 128.6\nQ 214.5 127.9, 214.0 127.0\nQ 213.5 126.1, 213.4 125.8\nL 213.4 135.2\nL 211.9 135.2\nL 211.9 123.9\nL 213.7 123.9\n' fill='#0000FF'/>\n<path class='atom-10' d='M 221.8 125.7\nL 225.6 125.7\nL 225.6 126.6\nL 221.8 126.6\nL 221.8 125.7\n' fill='#0000FF'/>\n<path class='atom-11' d='M 253.1 117.7\nL 256.8 123.7\nQ 257.1 124.3, 257.7 125.4\nQ 258.3 126.4, 258.3 126.5\nL 258.3 117.7\nL 259.8 117.7\nL 259.8 129.0\nL 258.3 129.0\nL 254.3 122.5\nQ 253.9 121.7, 253.4 120.8\nQ 252.9 120.0, 252.7 119.7\nL 252.7 129.0\nL 251.3 129.0\nL 251.3 117.7\nL 253.1 117.7\n' fill='#0000FF'/>\n<path class='atom-11' d='M 261.2 119.8\nL 263.2 119.8\nL 263.2 117.7\nL 264.0 117.7\nL 264.0 119.8\nL 266.1 119.8\nL 266.1 120.5\nL 264.0 120.5\nL 264.0 122.6\nL 263.2 122.6\nL 263.2 120.5\nL 261.2 120.5\nL 261.2 119.8\n' fill='#0000FF'/>\n<path class='atom-13' d='M 156.3 82.0\nL 160.0 88.0\nQ 160.4 88.6, 160.9 89.6\nQ 161.5 90.7, 161.6 90.8\nL 161.6 82.0\nL 163.1 82.0\nL 163.1 93.3\nL 161.5 93.3\nL 157.5 86.7\nQ 157.1 86.0, 156.6 85.1\nQ 156.1 84.2, 156.0 84.0\nL 156.0 93.3\nL 154.5 93.3\nL 154.5 82.0\nL 156.3 82.0\n' fill='#0000FF'/>\n<path class='atom-20' d='M 253.3 45.2\nQ 254.4 45.5, 254.9 46.2\nQ 255.5 46.8, 255.5 47.8\nQ 255.5 49.4, 254.5 50.2\nQ 253.5 51.1, 251.6 51.1\nL 247.8 51.1\nL 247.8 39.8\nL 251.1 39.8\nQ 253.1 39.8, 254.0 40.6\nQ 255.0 41.4, 255.0 42.8\nQ 255.0 44.5, 253.3 45.2\nM 249.3 41.1\nL 249.3 44.6\nL 251.1 44.6\nQ 252.3 44.6, 252.8 44.2\nQ 253.4 43.7, 253.4 42.8\nQ 253.4 41.1, 251.1 41.1\nL 249.3 41.1\nM 251.6 49.8\nQ 252.7 49.8, 253.3 49.3\nQ 253.9 48.8, 253.9 47.8\nQ 253.9 46.9, 253.2 46.4\nQ 252.6 45.9, 251.4 45.9\nL 249.3 45.9\nL 249.3 49.8\nL 251.6 49.8\n' fill='#7F4C19'/>\n<path class='atom-20' d='M 257.4 42.9\nL 257.6 44.1\nQ 258.5 42.8, 259.9 42.8\nQ 260.3 42.8, 260.9 42.9\nL 260.7 44.3\nQ 260.0 44.1, 259.6 44.1\nQ 258.9 44.1, 258.5 44.4\nQ 258.1 44.6, 257.7 45.3\nL 257.7 51.1\nL 256.2 51.1\nL 256.2 42.9\nL 257.4 42.9\n' fill='#7F4C19'/>\n<path class='atom-6' d='M 262.7,91.1 L 262.7,91.1 L 262.7,91.2 L 262.7,91.3 L 262.6,91.3 L 262.6,91.4 L 262.6,91.5 L 262.5,91.5 L 262.5,91.6 L 262.5,91.6 L 262.4,91.7 L 262.3,91.7 L 262.3,91.7 L 262.2,91.8 L 262.2,91.8 L 262.1,91.8 L 262.0,91.8 L 262.0,91.8 L 261.9,91.9 L 261.8,91.9 L 261.8,91.8 L 261.7,91.8 L 261.6,91.8 L 261.6,91.8 L 261.5,91.8 L 261.4,91.7 L 261.4,91.7 L 261.3,91.6 L 261.3,91.6 L 261.2,91.5 L 261.2,91.5 L 261.2,91.4 L 261.1,91.4 L 261.1,91.3 L 261.1,91.2 L 261.1,91.2 L 261.1,91.1 L 261.1,91.0 L 261.1,91.0 L 261.1,90.9 L 261.1,90.8 L 261.1,90.8 L 261.2,90.7 L 261.2,90.6 L 261.2,90.6 L 261.3,90.5 L 261.3,90.5 L 261.4,90.4 L 261.4,90.4 L 261.5,90.4 L 261.6,90.3 L 261.6,90.3 L 261.7,90.3 L 261.8,90.3 L 261.8,90.3 L 261.9,90.3 L 262.0,90.3 L 262.0,90.3 L 262.1,90.3 L 262.2,90.3 L 262.2,90.3 L 262.3,90.4 L 262.3,90.4 L 262.4,90.5 L 262.5,90.5 L 262.5,90.5 L 262.5,90.6 L 262.6,90.7 L 262.6,90.7 L 262.6,90.8 L 262.7,90.9 L 262.7,90.9 L 262.7,91.0 L 262.7,91.1 L 261.9,91.1 Z' style='fill:#000000;fill-rule:evenodd;fill-opacity:1;stroke:#000000;stroke-width:0.0px;stroke-linecap:butt;stroke-linejoin:miter;stroke-opacity:1;' />\n</svg>\n",
            "image/png": "[encoded data removed]"
          },
          "metadata": {},
          "execution_count": 14
        }
      ],
      "source": [
        "# Note that this will only work if you installed the rdkit package!\n",
        "mol = Chem.MolFromSmiles(data.iloc[5]['SMI'])\n",
        "mol"
      ]
    },
    {
      "cell_type": "code",
      "source": [
        "from rdkit import DataStructs\n",
        "def smiles2fps(smls = \"O=C(NCc1cc(OC)c(O)cc1)CCCC/C=C/C(C)C\"):\n",
        "    fps = np.zeros((0,), dtype=np.int8)\n",
        "    mol = Chem.MolFromSmiles(smls)\n",
        "    # tfps = Chem.RDKFingerprint(mol)\n",
        "    tfps = MACCSkeys.GenMACCSKeys(mol)\n",
        "    DataStructs.ConvertToNumpyArray(tfps,fps)\n",
        "    return fps   "
      ],
      "metadata": {
        "id": "R83ahOBzVlZ7"
      },
      "execution_count": 15,
      "outputs": []
    },
    {
      "cell_type": "code",
      "source": [],
      "metadata": {
        "id": "2Z3cW4JOCy6F"
      },
      "execution_count": 15,
      "outputs": []
    },
    {
      "cell_type": "markdown",
      "metadata": {
        "id": "sss4qpvSz-g2"
      },
      "source": [
        "## Converting SMILES string to numbers"
      ]
    },
    {
      "cell_type": "code",
      "execution_count": 16,
      "metadata": {
        "id": "4GhR-hcbwvGT"
      },
      "outputs": [],
      "source": [
        "# creating mapping for each char to integer, also mapping for the E (end) is manually inserted into the dictionaries.\n",
        "unique_chars = sorted(list(OrderedDict.fromkeys(chain.from_iterable(data['SMI']))))\n",
        "# maps each unique character as int\n",
        "char_to_int = dict((c, i) for i, c in enumerate(unique_chars))"
      ]
    },
    {
      "cell_type": "code",
      "execution_count": 17,
      "metadata": {
        "id": "sGyozszswzBB"
      },
      "outputs": [],
      "source": [
        "# int to char dictionary\n",
        "int_to_char = dict((i, c) for i, c in enumerate(unique_chars))"
      ]
    },
    {
      "cell_type": "code",
      "execution_count": 18,
      "metadata": {
        "id": "pJskTaXexQmU"
      },
      "outputs": [],
      "source": [
        "# add stop letter to dictionary  ---  Ф\n",
        "char_to_int.update({\"Ф\" : len(char_to_int)})\n",
        "int_to_char.update({len(int_to_char) : \"Ф\"})"
      ]
    },
    {
      "cell_type": "code",
      "execution_count": 19,
      "metadata": {
        "id": "k4-5RgeRxK4e"
      },
      "outputs": [],
      "source": [
        "# char_to_int"
      ]
    },
    {
      "cell_type": "code",
      "execution_count": 20,
      "metadata": {
        "id": "O4Z0A9VrxNDI"
      },
      "outputs": [],
      "source": [
        "# int_to_char"
      ]
    },
    {
      "cell_type": "code",
      "execution_count": 21,
      "metadata": {
        "colab": {
          "base_uri": "https://localhost:8080/"
        },
        "id": "jIJ-N3ApxUpV",
        "outputId": "e6370494-b81d-47cc-a2bc-b555db2fc794"
      },
      "outputs": [
        {
          "output_type": "stream",
          "name": "stdout",
          "text": [
            "Size of the character to integer dictionary is:  60\n",
            "Size of the integer to character dictionary is:  60\n"
          ]
        }
      ],
      "source": [
        "# how many unique characters do we have?\n",
        "mapping_size = len(char_to_int)\n",
        "reverse_mapping_size = len(int_to_char)\n",
        "print (\"Size of the character to integer dictionary is: \", mapping_size)\n",
        "print (\"Size of the integer to character dictionary is: \", reverse_mapping_size)"
      ]
    },
    {
      "cell_type": "code",
      "source": [
        "embed = max([len(seq) for seq in data['SMI']])  # maximum length of SMILES string"
      ],
      "metadata": {
        "id": "1KX3KNVlIkRj"
      },
      "execution_count": 22,
      "outputs": []
    },
    {
      "cell_type": "code",
      "source": [
        "embed"
      ],
      "metadata": {
        "colab": {
          "base_uri": "https://localhost:8080/"
        },
        "id": "txTrM30SKCXn",
        "outputId": "6e75d4e9-5527-44e6-f085-818d79a90b95"
      },
      "execution_count": 23,
      "outputs": [
        {
          "output_type": "execute_result",
          "data": {
            "text/plain": [
              "464"
            ]
          },
          "metadata": {},
          "execution_count": 23
        }
      ]
    },
    {
      "cell_type": "code",
      "source": [
        "# Smiles to Vec\n",
        "def smiles2vec(smiles  = \"O=C(NCc1cc(OC)c(O)cc1)CCCC/C#C/C(C)C\"):\n",
        "    vec = char_to_int['Ф']*np.ones((1, 464), np.uint8)\n",
        "    for j,c in enumerate(smiles):\n",
        "        vec[0, j] = char_to_int[c]\n",
        "    return vec\n",
        "\n",
        "# Vec to Smiles  \n",
        "def vec2smiles(vc):\n",
        "    vl = vc[0].tolist()\n",
        "    smle = \"\"\n",
        "    for j,c in enumerate(vl):\n",
        "        if int_to_char[c]=='Ф':\n",
        "            break\n",
        "        smle = smle + int_to_char[c]\n",
        "    return smle  \n",
        "\n",
        "##     \n",
        "# data['FP'] =  data['SMI'].apply(smiles2vec)  # applying manual function to \n",
        "# x_data_ = data['FP'].to_numpy()\n",
        "# y_data_ = data['G150'].to_numpy()\n",
        "\n",
        "def generate_data(x_data_, y_data_, embed, unique_g150):\n",
        "    # x_data and y_data\n",
        "    x_data = np.zeros((len(x_data_),1, embed))  \n",
        "    # y_data  = np.zeros((len(y_data_),1, 1))\n",
        "    yOHE = np.zeros((len(data), 1, len(unique_g150)),dtype=np.int8)\n",
        "    for i in range(len(x_data_)):\n",
        "        x_data[i, :, :]=  x_data_[i]\n",
        "        # y_data[i, :, :]=  y_data_[i] \n",
        "\n",
        "    # ydata   \n",
        "    for ii, g150 in enumerate(data['G150']):\n",
        "        yOHE[ii, :, g150_to_int[g150]]= 1   \n",
        "    return x_data, yOHE #y_data    \n",
        "\n",
        "\n",
        "# Generate the datasets\n",
        "def gen_data(data, int_to_char, char_to_int, g150_to_int, unique_g150, embed):\n",
        "    one_hot =  np.zeros((len(data), embed, len(char_to_int)),dtype=np.float32)\n",
        "    yOHE = np.zeros((len(data), 1, len(unique_g150)),dtype=np.uint8)\n",
        "    #XDATA\n",
        "    for i, smile in enumerate(data['SMI']):\n",
        "        #encode the chars\n",
        "        for j,c in enumerate(smile):\n",
        "            one_hot[i,j,char_to_int[c]] = 1\n",
        "        #Encode endchar\n",
        "        one_hot[i,len(smile):,char_to_int[\"Ф\"]] = 1\n",
        "\n",
        "    #YDATA\n",
        "    for ii, g150 in enumerate(data['G150']):\n",
        "        yOHE[ii, :, g150_to_int[g150]]= 1\n",
        "    return np.swapaxes(one_hot, 1, 2), yOHE"
      ],
      "metadata": {
        "id": "w9gQmKmigkt8"
      },
      "execution_count": 24,
      "outputs": []
    },
    {
      "cell_type": "code",
      "source": [
        "# Xdata, Ydata  = generate_data(x_data_, y_data_, embed, unique_g150) # step=1...not working\n",
        "Xdata, Ydata = gen_data(data, int_to_char, char_to_int, g150_to_int, unique_g150, embed)\n",
        "\n",
        "x_min = Xdata.min(axis=(1, 2), keepdims=True)\n",
        "x_max = Xdata.max(axis=(1, 2), keepdims=True)\n",
        "\n",
        "Xdata   = (Xdata - x_min)/(x_max-x_min)\n",
        " \n",
        "y_min = Ydata.min(axis=(1, 2), keepdims=True)\n",
        "y_max = Ydata.max(axis=(1, 2), keepdims=True)\n",
        "\n",
        "Ydata   = (Ydata - y_min)/(y_max-y_min)\n",
        "\n",
        "# # Train_test_split\n",
        "X_train, X_test, y_train, y_test = train_test_split(Xdata, Ydata,  test_size=0.30, random_state=42)"
      ],
      "metadata": {
        "id": "9-Ia2Gj4b90Z"
      },
      "execution_count": 26,
      "outputs": []
    },
    {
      "cell_type": "code",
      "source": [
        "Xdata.shape, Ydata.shape, X_train.shape, X_test.shape, y_train.shape, y_test.shape"
      ],
      "metadata": {
        "colab": {
          "base_uri": "https://localhost:8080/"
        },
        "id": "c1v4Y8bwfNik",
        "outputId": "3ee4b5eb-4eca-4409-a723-e79516c4c475"
      },
      "execution_count": 27,
      "outputs": [
        {
          "output_type": "execute_result",
          "data": {
            "text/plain": [
              "((34398, 60, 464),\n",
              " (34398, 1, 9),\n",
              " (24078, 60, 464),\n",
              " (10320, 60, 464),\n",
              " (24078, 1, 9),\n",
              " (10320, 1, 9))"
            ]
          },
          "metadata": {},
          "execution_count": 27
        }
      ]
    },
    {
      "cell_type": "code",
      "source": [
        "Ydata[0]"
      ],
      "metadata": {
        "colab": {
          "base_uri": "https://localhost:8080/"
        },
        "id": "pdrQjvInR7zu",
        "outputId": "9cf4ab35-fbf8-4723-f4c6-48b3d77197d4"
      },
      "execution_count": 29,
      "outputs": [
        {
          "output_type": "execute_result",
          "data": {
            "text/plain": [
              "array([[0., 0., 0., 0., 0., 0., 0., 1., 0.]])"
            ]
          },
          "metadata": {},
          "execution_count": 29
        }
      ]
    },
    {
      "cell_type": "code",
      "source": [
        "h_size = 128\n",
        "z_dims = 10\n",
        "n_classes = 9\n",
        "inp_dims  = X_train.shape[2]\n",
        "steps  =  X_train.shape[1]\n",
        "input_img =  keras.Input(shape=(steps , inp_dims))\n",
        "input_cond = Input(shape=(1, n_classes))\n",
        "def sample_z(args):\n",
        "    mu, log_var = args\n",
        "    batch = K.shape(mu)[0]\n",
        "    eps = K.random_normal(shape=(z_dims, ))\n",
        "    return mu + K.exp(log_var / 2) * eps\n",
        "\n",
        "\n",
        "\n",
        "# Encoder\n",
        "# traj_input =  Concatenate(axis=-1)([input_img, input_cond])\n",
        "traj_input = layer.Conv1D(h_size, 3, activation = 'relu', padding = 'same')(input_img) ## \n",
        "traj_input = layer.UpSampling1D(size=2)(traj_input)\n",
        "traj_input = layer.MaxPool1D(2, padding = 'same')(traj_input)\n",
        "traj_input = layer.UpSampling1D(size=2)(traj_input)\n",
        "traj_input = layer.Conv1D(h_size//8, 3, activation = 'relu', padding = 'same')(traj_input)\n",
        "traj_input = layer.MaxPool1D(4, padding = 'same')(traj_input)\n",
        "traj_input = layer.Flatten()(traj_input)\n",
        "# trah_input = layer.Dropout(0.2)(traj_input)\n",
        "# Sampling\n",
        "\n",
        "z_mean = layer.Dense(z_dims, activation='tanh')(traj_input)\n",
        "z_var_log = layer.Dense(z_dims, activation='linear')(traj_input)\n",
        "z = Lambda(sample_z, output_shape=(z_dims,))([z_mean, z_var_log])\n",
        "z= layer.Reshape((1, z_dims))(z)\n",
        "# z_cond = Concatenate(axis=-1)([z, input_cond])\n",
        "\n",
        "# Decoder\n",
        "z_in = Input(shape=(1, z_dims,))\n",
        "cond_in = Input(shape=(1, n_classes,))\n",
        "dec_input = Concatenate(axis=-1)([z_in, cond_in])\n",
        "z_traj_input = layer.Dense(256)(dec_input)\n",
        "z_traj_input = layer.Reshape((4, 64))(z_traj_input)\n",
        "z_traj_input = layer.Conv1D(h_size, 3, activation = 'relu', padding = 'same')(z_traj_input)\n",
        "z_traj_input = layer.UpSampling1D(2)(z_traj_input) \n",
        "z_traj_input = layer.Conv1D(h_size, 2, activation = 'relu', padding = 'same')(z_traj_input)\n",
        "z_traj_input = layer.UpSampling1D(2)(z_traj_input) \n",
        "z_traj_input = layer.Flatten()(z_traj_input)\n",
        "# z_traj_input  =layer.RepeatVector(20)(z_traj_input)\n",
        "# z_traj_input = layer.LSTM(units=16, return_sequences=True)(z_traj_input)\n",
        "# z_traj_input = layer.Flatten()(z_traj_input)\n",
        "z_traj_input = layer.Dense(inp_dims*steps, activation='sigmoid')(z_traj_input)\n",
        "traj_hat = layer.Reshape((steps, inp_dims))(z_traj_input)"
      ],
      "metadata": {
        "id": "qFuBH6L_at9B"
      },
      "execution_count": 105,
      "outputs": []
    },
    {
      "cell_type": "code",
      "execution_count": 106,
      "metadata": {
        "id": "k7-SQTG8Aad8",
        "colab": {
          "base_uri": "https://localhost:8080/"
        },
        "outputId": "1afce4ac-a73e-48aa-a74a-0a5e41511108"
      },
      "outputs": [
        {
          "output_type": "stream",
          "name": "stdout",
          "text": [
            "Model: \"model_15\"\n",
            "__________________________________________________________________________________________________\n",
            " Layer (type)                   Output Shape         Param #     Connected to                     \n",
            "==================================================================================================\n",
            " input_25 (InputLayer)          [(None, 60, 464)]    0           []                               \n",
            "                                                                                                  \n",
            " conv1d_24 (Conv1D)             (None, 60, 128)      178304      ['input_25[0][0]']               \n",
            "                                                                                                  \n",
            " up_sampling1d_24 (UpSampling1D  (None, 120, 128)    0           ['conv1d_24[0][0]']              \n",
            " )                                                                                                \n",
            "                                                                                                  \n",
            " max_pooling1d_12 (MaxPooling1D  (None, 60, 128)     0           ['up_sampling1d_24[0][0]']       \n",
            " )                                                                                                \n",
            "                                                                                                  \n",
            " up_sampling1d_25 (UpSampling1D  (None, 120, 128)    0           ['max_pooling1d_12[0][0]']       \n",
            " )                                                                                                \n",
            "                                                                                                  \n",
            " conv1d_25 (Conv1D)             (None, 120, 16)      6160        ['up_sampling1d_25[0][0]']       \n",
            "                                                                                                  \n",
            " max_pooling1d_13 (MaxPooling1D  (None, 30, 16)      0           ['conv1d_25[0][0]']              \n",
            " )                                                                                                \n",
            "                                                                                                  \n",
            " flatten_17 (Flatten)           (None, 480)          0           ['max_pooling1d_13[0][0]']       \n",
            "                                                                                                  \n",
            " dense_24 (Dense)               (None, 10)           4810        ['flatten_17[0][0]']             \n",
            "                                                                                                  \n",
            " dense_25 (Dense)               (None, 10)           4810        ['flatten_17[0][0]']             \n",
            "                                                                                                  \n",
            " lambda_6 (Lambda)              (None, 10)           0           ['dense_24[0][0]',               \n",
            "                                                                  'dense_25[0][0]']               \n",
            "                                                                                                  \n",
            " reshape_18 (Reshape)           (None, 1, 10)        0           ['lambda_6[0][0]']               \n",
            "                                                                                                  \n",
            " input_26 (InputLayer)          [(None, 1, 9)]       0           []                               \n",
            "                                                                                                  \n",
            "==================================================================================================\n",
            "Total params: 194,084\n",
            "Trainable params: 194,084\n",
            "Non-trainable params: 0\n",
            "__________________________________________________________________________________________________\n"
          ]
        }
      ],
      "source": [
        "encoder = Model([input_img, input_cond], [z_mean, z_var_log, z, input_cond])\n",
        "encoder.summary()"
      ]
    },
    {
      "cell_type": "code",
      "execution_count": 107,
      "metadata": {
        "id": "E6xT_dtNAad8",
        "colab": {
          "base_uri": "https://localhost:8080/"
        },
        "outputId": "f6e46f89-e285-4b1c-d767-b7b22f4f76fc"
      },
      "outputs": [
        {
          "output_type": "stream",
          "name": "stdout",
          "text": [
            "Model: \"model_16\"\n",
            "__________________________________________________________________________________________________\n",
            " Layer (type)                   Output Shape         Param #     Connected to                     \n",
            "==================================================================================================\n",
            " input_27 (InputLayer)          [(None, 1, 10)]      0           []                               \n",
            "                                                                                                  \n",
            " input_28 (InputLayer)          [(None, 1, 9)]       0           []                               \n",
            "                                                                                                  \n",
            " concatenate_12 (Concatenate)   (None, 1, 19)        0           ['input_27[0][0]',               \n",
            "                                                                  'input_28[0][0]']               \n",
            "                                                                                                  \n",
            " dense_26 (Dense)               (None, 1, 256)       5120        ['concatenate_12[0][0]']         \n",
            "                                                                                                  \n",
            " reshape_19 (Reshape)           (None, 4, 64)        0           ['dense_26[0][0]']               \n",
            "                                                                                                  \n",
            " conv1d_26 (Conv1D)             (None, 4, 128)       24704       ['reshape_19[0][0]']             \n",
            "                                                                                                  \n",
            " up_sampling1d_26 (UpSampling1D  (None, 8, 128)      0           ['conv1d_26[0][0]']              \n",
            " )                                                                                                \n",
            "                                                                                                  \n",
            " conv1d_27 (Conv1D)             (None, 8, 128)       32896       ['up_sampling1d_26[0][0]']       \n",
            "                                                                                                  \n",
            " up_sampling1d_27 (UpSampling1D  (None, 16, 128)     0           ['conv1d_27[0][0]']              \n",
            " )                                                                                                \n",
            "                                                                                                  \n",
            " flatten_18 (Flatten)           (None, 2048)         0           ['up_sampling1d_27[0][0]']       \n",
            "                                                                                                  \n",
            " dense_27 (Dense)               (None, 27840)        57044160    ['flatten_18[0][0]']             \n",
            "                                                                                                  \n",
            " reshape_20 (Reshape)           (None, 60, 464)      0           ['dense_27[0][0]']               \n",
            "                                                                                                  \n",
            "==================================================================================================\n",
            "Total params: 57,106,880\n",
            "Trainable params: 57,106,880\n",
            "Non-trainable params: 0\n",
            "__________________________________________________________________________________________________\n"
          ]
        }
      ],
      "source": [
        "decoder =  Model([z_in, cond_in], traj_hat)\n",
        "decoder.summary()"
      ]
    },
    {
      "cell_type": "code",
      "source": [
        "output= decoder(encoder([[input_img, input_cond]])[2:])\n",
        "output.shape"
      ],
      "metadata": {
        "colab": {
          "base_uri": "https://localhost:8080/"
        },
        "id": "a_PeJouAhYI2",
        "outputId": "41da9a9c-ff45-41b9-e20b-72d04a7909a4"
      },
      "execution_count": 108,
      "outputs": [
        {
          "output_type": "execute_result",
          "data": {
            "text/plain": [
              "TensorShape([None, 60, 464])"
            ]
          },
          "metadata": {},
          "execution_count": 108
        }
      ]
    },
    {
      "cell_type": "code",
      "source": [
        "def loss_func(encoder_mu, encoder_log_variance):\n",
        "    def vae_reconstruction_loss(y_true, y_predict):\n",
        "        reconstruction_loss_factor = 1000\n",
        "        reconstruction_loss = tf.keras.backend.mean(tf.keras.backend.square(y_true-y_predict))\n",
        "        return reconstruction_loss_factor * reconstruction_loss\n",
        "\n",
        "    def vae_kl_loss(encoder_mu, encoder_log_variance):\n",
        "        kl_loss = -0.5 * tf.keras.backend.sum(1.0 + encoder_log_variance - tf.keras.backend.square(encoder_mu) - tf.keras.backend.exp(encoder_log_variance), axis=1)\n",
        "        return kl_loss\n",
        "\n",
        "    def vae_kl_loss_metric(y_true, y_predict):\n",
        "        kl_loss = -0.5 * tf.keras.backend.sum(1.0 + encoder_log_variance - tf.keras.backend.square(encoder_mu) - tf.keras.backend.exp(encoder_log_variance), axis=1)\n",
        "        return kl_loss\n",
        "\n",
        "    def vae_loss(y_true, y_predict):\n",
        "        reconstruction_loss = vae_reconstruction_loss(y_true, y_predict)\n",
        "        kl_loss = vae_kl_loss(y_true, y_predict)\n",
        "\n",
        "        loss = reconstruction_loss + kl_loss\n",
        "        return loss\n",
        "\n",
        "    return vae_loss"
      ],
      "metadata": {
        "id": "1W1wP4psDNig"
      },
      "execution_count": 109,
      "outputs": []
    },
    {
      "cell_type": "code",
      "source": [
        "cvae = Model([input_img, input_cond], output)\n",
        "opt = tf.keras.optimizers.Adam(learning_rate=0.0023)\n",
        "cvae.compile(optimizer=opt, loss=loss_func(z_mean, z_var_log), metrics=['accuracy'])"
      ],
      "metadata": {
        "id": "8kISn1YJoqna"
      },
      "execution_count": 112,
      "outputs": []
    },
    {
      "cell_type": "code",
      "source": [
        "cvae.summary()"
      ],
      "metadata": {
        "colab": {
          "base_uri": "https://localhost:8080/"
        },
        "id": "4bcrGPZ9iMY9",
        "outputId": "3582ec4d-1983-45d9-88ad-d66670553112"
      },
      "execution_count": 113,
      "outputs": [
        {
          "output_type": "stream",
          "name": "stdout",
          "text": [
            "Model: \"model_19\"\n",
            "__________________________________________________________________________________________________\n",
            " Layer (type)                   Output Shape         Param #     Connected to                     \n",
            "==================================================================================================\n",
            " input_25 (InputLayer)          [(None, 60, 464)]    0           []                               \n",
            "                                                                                                  \n",
            " input_26 (InputLayer)          [(None, 1, 9)]       0           []                               \n",
            "                                                                                                  \n",
            " model_15 (Functional)          [(None, 10),         194084      ['input_25[0][0]',               \n",
            "                                 (None, 10),                      'input_26[0][0]']               \n",
            "                                 (None, 1, 10),                                                   \n",
            "                                 (None, 1, 9)]                                                    \n",
            "                                                                                                  \n",
            " model_16 (Functional)          (None, 60, 464)      57106880    ['model_15[0][2]',               \n",
            "                                                                  'model_15[0][3]']               \n",
            "                                                                                                  \n",
            "==================================================================================================\n",
            "Total params: 57,300,964\n",
            "Trainable params: 57,300,964\n",
            "Non-trainable params: 0\n",
            "__________________________________________________________________________________________________\n"
          ]
        }
      ]
    },
    {
      "cell_type": "code",
      "source": [
        "from keras_visualizer import visualizer \n",
        "visualizer(model, format='png', view=True)\n",
        "\n",
        "\n",
        "# tf.keras.utils.plot_model(\n",
        "#     model,\n",
        "#     to_file=\"model.png\",\n",
        "#     show_shapes=False,\n",
        "#     show_dtype=False,\n",
        "#     show_layer_names=True,\n",
        "#     rankdir=\"TB\",\n",
        "#     expand_nested=False,\n",
        "#     dpi=96,\n",
        "#     layer_range=None,\n",
        "#     show_layer_activations=False,\n",
        "# )"
      ],
      "metadata": {
        "id": "HCjvh4BsbuEn"
      },
      "execution_count": null,
      "outputs": []
    },
    {
      "cell_type": "code",
      "source": [
        "# train\n",
        "history= cvae.fit([X_train[:1000,:,:], y_train[:1000,:,:]], X_train[:1000,:,:] ,\n",
        "       shuffle=True,\n",
        "       epochs=2,\n",
        "       batch_size=1,\n",
        "       verbose=1)"
      ],
      "metadata": {
        "colab": {
          "base_uri": "https://localhost:8080/"
        },
        "id": "ABwOuKxxqqa2",
        "outputId": "20b6bde4-0f5f-444d-f1ae-7b65288ed8aa"
      },
      "execution_count": 114,
      "outputs": [
        {
          "output_type": "stream",
          "name": "stdout",
          "text": [
            "Epoch 1/2\n",
            "1000/1000 [==============================] - 305s 303ms/step - loss: 4.0611 - accuracy: 0.7886\n",
            "Epoch 2/2\n",
            "1000/1000 [==============================] - 304s 304ms/step - loss: 3.3846 - accuracy: 0.7965\n"
          ]
        }
      ]
    },
    {
      "cell_type": "code",
      "source": [
        "y_test[0].shape"
      ],
      "metadata": {
        "colab": {
          "base_uri": "https://localhost:8080/"
        },
        "id": "40S5G6bBeNpc",
        "outputId": "a3e4016c-a818-40d2-cfa0-dbdcc62b3011"
      },
      "execution_count": 115,
      "outputs": [
        {
          "output_type": "execute_result",
          "data": {
            "text/plain": [
              "(1, 9)"
            ]
          },
          "metadata": {},
          "execution_count": 115
        }
      ]
    },
    {
      "cell_type": "code",
      "source": [
        "pred_class = y_train[0].reshape(1,1,9)\n",
        "pred_noise = np.random.randn(1, z_dims).reshape(1,1,-1)\n",
        "pred_out = decoder.predict([pred_noise, pred_class])"
      ],
      "metadata": {
        "id": "lswqmcmB8Xp8"
      },
      "execution_count": 116,
      "outputs": []
    },
    {
      "cell_type": "code",
      "source": [
        "ind = np.unravel_index(np.argmax(pred_out, axis=1), pred_out.shape)"
      ],
      "metadata": {
        "id": "FWxK8vcTzCAl"
      },
      "execution_count": 117,
      "outputs": []
    },
    {
      "cell_type": "code",
      "source": [
        "ind[2].shape"
      ],
      "metadata": {
        "colab": {
          "base_uri": "https://localhost:8080/"
        },
        "id": "-oSrj1XIOhGG",
        "outputId": "01807079-eb44-4dd4-995c-df4b68c7052b"
      },
      "execution_count": 118,
      "outputs": [
        {
          "output_type": "execute_result",
          "data": {
            "text/plain": [
              "(1, 464)"
            ]
          },
          "metadata": {},
          "execution_count": 118
        }
      ]
    },
    {
      "cell_type": "code",
      "source": [
        "s = vec2smiles(ind[2])"
      ],
      "metadata": {
        "id": "5rzAZtiUOxBd"
      },
      "execution_count": 119,
      "outputs": []
    },
    {
      "cell_type": "code",
      "source": [
        "s"
      ],
      "metadata": {
        "colab": {
          "base_uri": "https://localhost:8080/",
          "height": 35
        },
        "id": "tI6wODdpO8Xz",
        "outputId": "e92acd98-8095-4b1c-a3e2-2d7ee00b5ce7"
      },
      "execution_count": 120,
      "outputs": [
        {
          "output_type": "execute_result",
          "data": {
            "text/plain": [
              "'OCCCc(Cn+]([O-([C2cC(ccc@@nC)Cc1C)F)(FCF)[O-C)c'"
            ],
            "application/vnd.google.colaboratory.intrinsic+json": {
              "type": "string"
            }
          },
          "metadata": {},
          "execution_count": 120
        }
      ]
    },
    {
      "cell_type": "markdown",
      "source": [
        "## Grid Plots"
      ],
      "metadata": {
        "id": "Wo3_T6GpEekP"
      }
    },
    {
      "cell_type": "code",
      "source": [
        "import matplotlib.pyplot as plt\n",
        "\n",
        "\n",
        "n=10\n",
        "figsize=9\n",
        "# display a n*n 2D manifold of digits\n",
        "digit_size = 28\n",
        "scale = 1.0\n",
        "figure = np.zeros((digit_size * n, digit_size * n))\n",
        "# linearly spaced coordinates corresponding to the 2D plot\n",
        "# of digit classes in the latent space\n",
        "grid_x = np.linspace(-scale, scale, n)\n",
        "grid_y = np.linspace(-scale, scale, n)[::-1]\n",
        "\n",
        "array_0_to_9 = np.arange(start = 0, stop = 10)\n",
        "\n",
        "for i, yi in enumerate(grid_y):\n",
        "    for j, xi in enumerate(grid_x):\n",
        "        z_sample = np.array([[xi, yi]])\n",
        "        num_class =   8 #np.random.choice(a = array_0_to_9)\n",
        "        pred_class = np.array(8).reshape(1,1,-1)\n",
        "        pred_noise = z_sample.reshape(1,1,-1)\n",
        "        x_decoded = decoder.predict([pred_noise, pred_class])\n",
        "        x_decoder_smile = vec2smiles(x_decoded)\n",
        "        print(x_decoder_smile)\n",
        "# plt.figure(figsize=(figsize, figsize))\n",
        "# sample_range_x = np.round(grid_x, 1)\n",
        "# sample_range_y = np.round(grid_y, 1)\n",
        "# plt.xticks(pixel_range, sample_range_x)\n",
        "# plt.yticks(pixel_range, sample_range_y)\n",
        "# plt.xlabel(\"z[0]\")\n",
        "# plt.ylabel(\"z[1]\")\n",
        "# plt.imshow(figure, cmap=\"Greys_r\")\n",
        "# plt.show()\n",
        "\n",
        "\n"
      ],
      "metadata": {
        "id": "ZWOXv61eEf3C"
      },
      "execution_count": null,
      "outputs": []
    },
    {
      "cell_type": "code",
      "source": [
        "x_decoded"
      ],
      "metadata": {
        "id": "lWkO-96QNcrA"
      },
      "execution_count": null,
      "outputs": []
    },
    {
      "cell_type": "code",
      "source": [],
      "metadata": {
        "id": "JrvIYZCEfHFY"
      },
      "execution_count": null,
      "outputs": []
    }
  ]
}